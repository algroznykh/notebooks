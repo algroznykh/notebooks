{
  "cells": [
    {
      "cell_type": "markdown",
      "metadata": {
        "id": "view-in-github",
        "colab_type": "text"
      },
      "source": [
        "<a href=\"https://colab.research.google.com/github/algroznykh/notebooks/blob/master/texture_nca_pytorch_conv_in_conv.ipynb\" target=\"_parent\"><img src=\"https://colab.research.google.com/assets/colab-badge.svg\" alt=\"Open In Colab\"/></a>"
      ]
    },
    {
      "cell_type": "markdown",
      "metadata": {
        "id": "qbyJuqANoinE"
      },
      "source": [
        "# [Texture Generation with Neural Cellular Automata -- Conv in Conv](https://distill.pub/selforg/2021/textures) (PyTorch version)\n",
        "\n",
        "This notebook contains a minimalistic PyTorch implementation of the Texture Nerual CA model. For pretrained models and other experiments please refer to the [TF2 version](https://colab.research.google.com/github/google-research/self-organising-systems/blob/master/notebooks/texture_nca_tf2.ipynb).\n",
        "\n",
        "*Copyright 2021 Google LLC*\n",
        "\n",
        "Licensed under the Apache License, Version 2.0 (the \"License\");\n",
        "you may not use this file except in compliance with the License.\n",
        "You may obtain a copy of the License at\n",
        "\n",
        "[https://www.apache.org/licenses/LICENSE-2.0](https://www.apache.org/licenses/LICENSE-2.0)\n",
        "\n",
        "Unless required by applicable law or agreed to in writing, software\n",
        "distributed under the License is distributed on an \"AS IS\" BASIS,\n",
        "WITHOUT WARRANTIES OR CONDITIONS OF ANY KIND, either express or implied.\n",
        "See the License for the specific language governing permissions and\n",
        "limitations under the License."
      ]
    },
    {
      "cell_type": "code",
      "execution_count": null,
      "metadata": {
        "cellView": "form",
        "colab": {
          "base_uri": "https://localhost:8080/"
        },
        "id": "FR8YNR-g9JXA",
        "outputId": "b55c4fbf-bd32-4100-a07f-27820891a2ea"
      },
      "outputs": [
        {
          "output_type": "stream",
          "name": "stdout",
          "text": [
            "GPU 0: Tesla P100-PCIE-16GB (UUID: GPU-57f83a6c-2dc9-4258-94e6-6a5f90f00798)\n"
          ]
        }
      ],
      "source": [
        "#@title Imports and Notebook Utilities\n",
        "%tensorflow_version 2.x\n",
        "\n",
        "import os\n",
        "import io\n",
        "import PIL.Image, PIL.ImageDraw\n",
        "import base64\n",
        "import zipfile\n",
        "import json\n",
        "import requests\n",
        "import numpy as np\n",
        "import matplotlib.pylab as pl\n",
        "import glob\n",
        "\n",
        "from IPython.display import Image, HTML, clear_output\n",
        "from tqdm import tqdm_notebook, tnrange\n",
        "\n",
        "os.environ['FFMPEG_BINARY'] = 'ffmpeg'\n",
        "import moviepy.editor as mvp\n",
        "from moviepy.video.io.ffmpeg_writer import FFMPEG_VideoWriter\n",
        "\n",
        "\n",
        "def imread(url, max_size=None, mode=None):\n",
        "  if url.startswith(('http:', 'https:')):\n",
        "    # wikimedia requires a user agent\n",
        "    headers = {\n",
        "      \"User-Agent\": \"Requests in Colab/0.0 (https://colab.research.google.com/; no-reply@google.com) requests/0.0\"\n",
        "    }\n",
        "    r = requests.get(url, headers=headers)\n",
        "    f = io.BytesIO(r.content)\n",
        "  else:\n",
        "    f = url\n",
        "  img = PIL.Image.open(f)\n",
        "  if max_size is not None:\n",
        "    img.thumbnail((max_size, max_size), PIL.Image.ANTIALIAS)\n",
        "  if mode is not None:\n",
        "    img = img.convert(mode)\n",
        "  img = np.float32(img)/255.0\n",
        "  return img\n",
        "\n",
        "def np2pil(a):\n",
        "  if a.dtype in [np.float32, np.float64]:\n",
        "    a = np.uint8(np.clip(a, 0, 1)*255)\n",
        "  return PIL.Image.fromarray(a)\n",
        "\n",
        "def imwrite(f, a, fmt=None):\n",
        "  a = np.asarray(a)\n",
        "  if isinstance(f, str):\n",
        "    fmt = f.rsplit('.', 1)[-1].lower()\n",
        "    if fmt == 'jpg':\n",
        "      fmt = 'jpeg'\n",
        "    f = open(f, 'wb')\n",
        "  np2pil(a).save(f, fmt, quality=95)\n",
        "\n",
        "def imencode(a, fmt='jpeg'):\n",
        "  a = np.asarray(a)\n",
        "  if len(a.shape) == 3 and a.shape[-1] == 4:\n",
        "    fmt = 'png'\n",
        "  f = io.BytesIO()\n",
        "  imwrite(f, a, fmt)\n",
        "  return f.getvalue()\n",
        "\n",
        "def im2url(a, fmt='jpeg'):\n",
        "  encoded = imencode(a, fmt)\n",
        "  base64_byte_string = base64.b64encode(encoded).decode('ascii')\n",
        "  return 'data:image/' + fmt.upper() + ';base64,' + base64_byte_string\n",
        "\n",
        "def imshow(a, fmt='jpeg'):\n",
        "  display(Image(data=imencode(a, fmt)))\n",
        "\n",
        "def tile2d(a, w=None):\n",
        "  a = np.asarray(a)\n",
        "  if w is None:\n",
        "    w = int(np.ceil(np.sqrt(len(a))))\n",
        "  th, tw = a.shape[1:3]\n",
        "  pad = (w-len(a))%w\n",
        "  a = np.pad(a, [(0, pad)]+[(0, 0)]*(a.ndim-1), 'constant')\n",
        "  h = len(a)//w\n",
        "  a = a.reshape([h, w]+list(a.shape[1:]))\n",
        "  a = np.rollaxis(a, 2, 1).reshape([th*h, tw*w]+list(a.shape[4:]))\n",
        "  return a\n",
        "\n",
        "def zoom(img, scale=4):\n",
        "  img = np.repeat(img, scale, 0)\n",
        "  img = np.repeat(img, scale, 1)\n",
        "  return img\n",
        "\n",
        "class VideoWriter:\n",
        "  def __init__(self, filename='_autoplay.mp4', fps=30.0, **kw):\n",
        "    self.writer = None\n",
        "    self.params = dict(filename=filename, fps=fps, **kw)\n",
        "\n",
        "  def add(self, img):\n",
        "    img = np.asarray(img)\n",
        "    if self.writer is None:\n",
        "      h, w = img.shape[:2]\n",
        "      self.writer = FFMPEG_VideoWriter(size=(w, h), **self.params)\n",
        "    if img.dtype in [np.float32, np.float64]:\n",
        "      img = np.uint8(img.clip(0, 1)*255)\n",
        "    if len(img.shape) == 2:\n",
        "      img = np.repeat(img[..., None], 3, -1)\n",
        "    self.writer.write_frame(img)\n",
        "\n",
        "  def close(self):\n",
        "    if self.writer:\n",
        "      self.writer.close()\n",
        "\n",
        "  def __enter__(self):\n",
        "    return self\n",
        "\n",
        "  def __exit__(self, *kw):\n",
        "    self.close()\n",
        "    if self.params['filename'] == '_autoplay.mp4':\n",
        "      self.show()\n",
        "\n",
        "  def show(self, **kw):\n",
        "      self.close()\n",
        "      fn = self.params['filename']\n",
        "      display(mvp.ipython_display(fn, **kw))\n",
        "\n",
        "!nvidia-smi -L"
      ]
    },
    {
      "cell_type": "code",
      "execution_count": null,
      "metadata": {
        "id": "C1hkDT38hSaP"
      },
      "outputs": [],
      "source": [
        "import torch\n",
        "import torchvision.models as models\n",
        "\n",
        "torch.set_default_tensor_type('torch.cuda.FloatTensor')\n",
        "\n",
        "import torch.nn.functional as F"
      ]
    },
    {
      "cell_type": "code",
      "execution_count": null,
      "metadata": {
        "id": "rOdXOqb9tCZS"
      },
      "outputs": [],
      "source": [
        "# OT loss \n",
        "\n",
        "!pip install -q --progress-bar off pykeops[colab] geomloss\n",
        "\n",
        "from geomloss import SamplesLoss\n",
        "from torchvision.transforms.functional_tensor import gaussian_blur\n",
        "\n",
        "def calc_styles_ot(img, ksize, leveln, show=False):\n",
        "  levels = []\n",
        "  for i in range(leveln):\n",
        "    blured = gaussian_blur(img, [5, 5], [1, 1])\n",
        "    unsharp = img + (img-blured)*2.0\n",
        "    if show:\n",
        "      imshow(unsharp[0].permute(1, 2, 0).cpu())\n",
        "    win = F.unfold(unsharp, ksize).permute(0, 2, 1).contiguous()\n",
        "    levels.append(win)\n",
        "    if i<leveln-1:\n",
        "      img = blured[:,:,::2,::2]\n",
        "  return levels\n",
        " \n",
        "opt_f = SamplesLoss()\n",
        "\n",
        "def subsample(x, n=2048):\n",
        "  if x.shape[1]>n:\n",
        "    idx = torch.multinomial(torch.ones(x.shape[1]), n)\n",
        "    x = x[:,idx]\n",
        "  return x\n",
        "\n",
        "def create_ot_loss(target_img, ksize=5, leveln=2, show=False):\n",
        "  target_style = calc_styles_ot(target_img, ksize, leveln, show)\n",
        "  def loss_f(imgs):\n",
        "    xs = calc_styles_ot(imgs, ksize, leveln)\n",
        "    loss = 0.0\n",
        "    for x, y in zip(xs, target_style):\n",
        "      x, y = subsample(x, 1024), subsample(y, 1024*2)\n",
        "      y = y.repeat(x.shape[0], 1, 1)\n",
        "      loss += opt_f(x, y).mean()\n",
        "    return loss\n",
        "  return loss_f"
      ]
    },
    {
      "cell_type": "code",
      "execution_count": null,
      "metadata": {
        "colab": {
          "base_uri": "https://localhost:8080/"
        },
        "id": "ewXnAPrbHx0-",
        "outputId": "624f491c-990a-41f1-9eff-fadc7c8b5096"
      },
      "outputs": [
        {
          "output_type": "stream",
          "name": "stdout",
          "text": [
            "CA param count: 52\n"
          ]
        }
      ],
      "source": [
        "#@title Neural CA\n",
        "ident = torch.tensor([[0.0,0.0,0.0],[0.0,1.0,0.0],[0.0,0.0,0.0]])\n",
        "sobel_x = torch.tensor([[-1.0,0.0,1.0],[-2.0,0.0,2.0],[-1.0,0.0,1.0]])\n",
        "lap = torch.tensor([[1.0,2.0,1.0],[2.0,-12,2.0],[1.0,2.0,1.0]])\n",
        "\n",
        "class Weight(torch.nn.Module):\n",
        "    def __init__(self):\n",
        "        super(Weight, self).__init__()\n",
        "        self.weight = torch.nn.Parameter(data=torch.Tensor(1), requires_grad=True)\n",
        "        torch.nn.init.normal_(self.weight.data, mean=0, std=0.5)\n",
        "\n",
        "    def forward(self, input):\n",
        "        return input * self.weight\n",
        "\n",
        "class Bias(torch.nn.Module):\n",
        "  def __init__(self):\n",
        "    super(Bias, self).__init__()\n",
        "    self.bias = torch.nn.Parameter(data=torch.Tensor(1), requires_grad=True)\n",
        "    torch.nn.init.normal_(self.bias.data, mean=0, std=0.5)\n",
        "\n",
        "  def forward(self, input):\n",
        "    return input + self.bias\n",
        "\n",
        "def perchannel_conv(x, filters):\n",
        "  '''filters: [filter_n, h, w]'''\n",
        "  b, ch, h, w = x.shape\n",
        "  y = x.reshape(b*ch, 1, h, w)\n",
        "  y = torch.nn.functional.pad(y, [1, 1, 1, 1], 'circular')\n",
        "  y = torch.nn.functional.conv2d(y, filters[:,None])\n",
        "  return y.reshape(b, -1, h, w)\n",
        "\n",
        "def perception(x):\n",
        "  filters = torch.stack([ident, sobel_x, sobel_x.T, lap])\n",
        "  return perchannel_conv(x, filters)\n",
        "\n",
        "class CA(torch.nn.Module):\n",
        "  def __init__(self, chn=12, hidden_n=96):\n",
        "    super().__init__()\n",
        "    self.chn = chn\n",
        "    g = chn * 4\n",
        "\n",
        "    # 3 coef for 1d convolution on internal state\n",
        "    self.c1 = Weight()\n",
        "    self.c2 = Weight()\n",
        "    self.c3 = Weight()\n",
        "    self.bias = Bias()\n",
        "\n",
        "\n",
        "    self.w2 = torch.nn.Conv2d(g, chn, 1, bias=False, groups=chn)\n",
        "    self.w2.weight.data.zero_()\n",
        "\n",
        "  def forward(self, x, update_rate=0.5, convn=1):\n",
        "    y = perception(x)\n",
        "\n",
        "    for _ in range(convn):\n",
        "\n",
        "      # 1d conv on internal state\n",
        "      h1 = self.c1(y.roll(-1,1))\n",
        "      h2 = self.c2(y.roll(0,1))\n",
        "      h3 = self.c3(y.roll(1,1))\n",
        "      y = h1 + h2 + h3\n",
        "      y = self.bias(y)\n",
        "      y = torch.relu(y)\n",
        "\n",
        "    y = self.w2(y)\n",
        "    b, c, h, w = y.shape\n",
        "\n",
        "    return x+y\n",
        "\n",
        "  def seed(self, n, sz=128):\n",
        "    return torch.randn(n, self.chn, sz, sz) / 10\n",
        "\n",
        "def to_rgb(x):\n",
        "  return x[...,:3,:,:]+0.5\n",
        "  # return x[...,::4,:,:]+0.5\n",
        "\n",
        "\n",
        "param_n = sum(p.numel() for p in CA().parameters())\n",
        "print('CA param count:', param_n)"
      ]
    },
    {
      "cell_type": "code",
      "execution_count": null,
      "metadata": {
        "colab": {
          "base_uri": "https://localhost:8080/",
          "height": 145
        },
        "id": "5NNHH6fSsLvv",
        "outputId": "e5579399-5b41-45c8-92bb-f13c2a8910ce"
      },
      "outputs": [
        {
          "output_type": "display_data",
          "data": {
            "image/jpeg": "[encoded data removed]",
            "text/plain": [
              "<IPython.core.display.Image object>"
            ]
          },
          "metadata": {}
        }
      ],
      "source": [
        "#@title Target image {vertical-output: true}\n",
        "style_url = 'https://upload.wikimedia.org/wikipedia/commons/thumb/0/04/Tempera%2C_charcoal_and_gouache_mountain_painting_by_Nicholas_Roerich.jpg/301px-Tempera%2C_charcoal_and_gouache_mountain_painting_by_Nicholas_Roerich.jpg'\n",
        "style_img = imread(style_url, max_size=128)\n",
        "style_img = imread('/content/grid.png', max_size=128)[...,:3]\n",
        "with torch.no_grad():\n",
        "  target_style = calc_styles(to_nchw(style_img))\n",
        "  texture_loss_f = create_ot_loss(to_nchw(style_img), leveln=5)\n",
        "imshow(style_img)"
      ]
    },
    {
      "cell_type": "code",
      "execution_count": null,
      "metadata": {
        "id": "9Cd1uMD3cZw3"
      },
      "outputs": [],
      "source": [
        "#@title setup training\n",
        "ca = CA() \n",
        "opt = torch.optim.Adam(ca.parameters(), 1e-3)\n",
        "lr_sched = torch.optim.lr_scheduler.MultiStepLR(opt, [2000], 0.3)\n",
        "loss_log = []\n",
        "with torch.no_grad():\n",
        "  pool = ca.seed(256)"
      ]
    },
    {
      "cell_type": "code",
      "execution_count": null,
      "metadata": {
        "colab": {
          "base_uri": "https://localhost:8080/",
          "height": 414
        },
        "id": "3pxjdESnYlIC",
        "outputId": "a8fc74f2-c59b-4296-bfc1-90443d0a1a35"
      },
      "outputs": [
        {
          "output_type": "display_data",
          "data": {
            "image/png": "[encoded data removed]",
            "text/plain": [
              "<Figure size 432x288 with 1 Axes>"
            ]
          },
          "metadata": {
            "needs_background": "light"
          }
        },
        {
          "output_type": "display_data",
          "data": {
            "image/jpeg": "[encoded data removed]",
            "text/plain": [
              "<IPython.core.display.Image object>"
            ]
          },
          "metadata": {}
        },
        {
          "output_type": "stream",
          "name": "stdout",
          "text": [
            "step_n: 181  loss: 44.25048828125  lr: 0.001"
          ]
        }
      ],
      "source": [
        "#@title training loop {vertical-output: true}\n",
        "\n",
        "def loss_f(x, lf):\n",
        "  loss = lf(to_rgb(x))\n",
        "  reg = (x-x.clamp(-1.0, 1.0)).square().sum()\n",
        "  total_loss = loss + reg\n",
        "  return total_loss\n",
        "\n",
        "\n",
        "for i in range(4000):\n",
        "  with torch.no_grad():\n",
        "    batch_idx = np.random.choice(len(pool), 4, replace=False)\n",
        "    x = pool[batch_idx]\n",
        "    if i%8 == 0:\n",
        "      x[:1] = ca.seed(1)\n",
        "  # step_n = np.random.randint(32, 96)\n",
        "  step_n = np.random.randint(16, 64)\n",
        "\n",
        "  # The following line is equivalent to this code:\n",
        "  #   for k in range(step_n):\n",
        "  #     x = ca(x)\n",
        "  # It uses gradient checkpointing to save memory, which enables larger\n",
        "  # batches and longer CA step sequences. Surprisingly, this version\n",
        "  # is also ~2x faster than a simple loop, even though it performs\n",
        "  # the forward pass twice!\n",
        "  # x = torch.utils.checkpoint.checkpoint_sequential([ca]*step_n, 16, x)\n",
        "  for k in range(step_n):\n",
        "      x = ca(x, convn=4)\n",
        "  imgs = to_rgb(x)\n",
        "  # styles = calc_styles(imgs)\n",
        "  # overflow_loss = (x-x.clamp(-1.0, 1.0)).abs().sum()\n",
        "  # loss = style_loss(styles, target_style)+overflow_loss\n",
        "  loss = loss_f(x, texture_loss_f)\n",
        "  with torch.no_grad():\n",
        "    loss.backward()\n",
        "    # for p in ca.parameters():\n",
        "    #     p.grad /= (p.grad.norm()+1e-8)  # normalize gradients \n",
        "    opt.step()\n",
        "    opt.zero_grad()\n",
        "    lr_sched.step()\n",
        "    pool[batch_idx] = x                # update pool\n",
        "    \n",
        "    loss_log.append(loss.item())\n",
        "    if i%64==0:\n",
        "      clear_output(True)\n",
        "      pl.plot(loss_log, '.', alpha=0.1)\n",
        "      pl.yscale('log')\n",
        "      pl.ylim(np.min(loss_log), loss_log[0])\n",
        "      pl.show()\n",
        "      imgs = to_rgb(x).permute([0, 2, 3, 1]).cpu()\n",
        "      imshow(np.hstack(imgs))\n",
        "    if i%10 == 0:\n",
        "      print('\\rstep_n:', len(loss_log),\n",
        "        ' loss:', loss.item(), \n",
        "        ' lr:', lr_sched.get_lr()[0], end='')\n"
      ]
    },
    {
      "cell_type": "code",
      "execution_count": null,
      "metadata": {
        "id": "ZTVkyfKc_2mF",
        "cellView": "form"
      },
      "outputs": [],
      "source": [
        "#@title NCA video {vertical-output: true}\n",
        "attn_log = []\n",
        "with VideoWriter() as vid, torch.no_grad():\n",
        "  x = ca.seed(4, 256)\n",
        "  for k in tnrange(300, leave=False):\n",
        "    step_n = min(2**(k//30), 16)\n",
        "    for i in range(step_n):\n",
        "      x[:] = ca(x)\n",
        "      # attn_log.append(ca.attn)\n",
        "    img = to_rgb(x[0]).permute(1, 2, 0).cpu()\n",
        "    vid.add(zoom(img, 2))"
      ]
    },
    {
      "cell_type": "code",
      "execution_count": null,
      "metadata": {
        "id": "uhCifzRiFTZ7"
      },
      "outputs": [],
      "source": [
        "#@title hidden states {vertical-output: true}\n",
        "DAMAGE = False\n",
        "\n",
        "with VideoWriter() as vid, torch.no_grad():\n",
        "  x = ca.seed(1, sz=128)\n",
        "\n",
        "#   x = torch.cat([makez2(1, sz=128), torch.zeros((1, 12-3, 128, 128))], 1)\n",
        "\n",
        "  # initial frame\n",
        "  img = np.vstack([np.hstack([to_rgb(x[:,row:row+3,...][0]).permute(1, 2, 0).cpu() for row in range(col, col+6)[::3]]) for col in range(ca.chn)[::6]])\n",
        "  vid.add(zoom(img, 2))\n",
        "\n",
        "  s = 0\n",
        "\n",
        "  for k in tnrange(300, leave=False):\n",
        "    step_n = min(2**(k//30), 16) // 2 + 1\n",
        "    step_n = 4\n",
        "    for i in range(step_n):\n",
        "      x[:] = ca(x, convn=3)\n",
        "      # x[:,3:6,...] = ca.seed(1, sz=128)[:,:3,...]\n",
        "\n",
        "    if DAMAGE and (k+1) % 16 == 0:\n",
        "\n",
        "      if s%4==0: \n",
        "        x[:,3:6,...] = ca.seed(1, sz=128)[:,:3,...]\n",
        "      elif s%4==1:\n",
        "        x[:,-6:-3,...] = ca.seed(1, sz=128)[:,:3,...]\n",
        "      elif s%4 == 2:\n",
        "        x[:,-3:,...] = ca.seed(1, sz=128)[:,:3,...]\n",
        "      elif s%4 == 3:\n",
        "        x[:,:3,...] = ca.seed(1, sz=128)[:,:3,...]\n",
        "\n",
        "      # if s%2==0:\n",
        "      #   x[:,-6:-3,...] = ca.seed(1, sz=128)[:,:3,...]\n",
        "      # elif s%2 == 1:\n",
        "      #   x[:,-3:,...] = ca.seed(1, sz=128)[:,:3,...]\n",
        "\n",
        "\n",
        "      s += 1\n",
        "\n",
        "\n",
        "    # img = to_rgb(x[0]).permute(1, 2, 0).cpu()\n",
        "    img = np.vstack([np.hstack([to_rgb(x[:,row:row+3,...][0]).permute(1, 2, 0).cpu() for row in range(col, col+6)[::3]]) for col in range(ca.chn)[::6]])\n",
        "\n",
        "    vid.add(zoom(img, 2))"
      ]
    },
    {
      "cell_type": "code",
      "source": [
        "#@title hidden state PCA visualisation { vertical-output: true }\n",
        "from sklearn.decomposition import PCA\n",
        "\n",
        "SIZE=384\n",
        "N_COMP = 6\n",
        "\n",
        "# state = np.zeros([1, SIZE, SIZE, cfg.texture_ca.channel_n], np.float32)\n",
        "state = ca.seed(1, SIZE)\n",
        "state_hist = []\n",
        "# collect state history to compute principal components\n",
        "for i in tqdm_notebook(range(200)):\n",
        "  with torch.no_grad():\n",
        "    state = ca(state)\n",
        "  if i > 60:\n",
        "    state_hist.append(np.array(torch.reshape(state[0], (-1, 12)).cpu()))\n",
        "hidden_states = np.concatenate(state_hist, axis=0)\n",
        "pca = PCA(n_components=N_COMP)\n",
        "pca.fit(hidden_states[:, 3:])\n",
        "# quick and dirty way to normalize to [0,1] for visualisation: \n",
        "# assume the values going forward will be of \n",
        "# same scale, standardize so 3-std is in [0,1] \n",
        "sample = pca.transform(hidden_states[:, 3:])\n",
        "std = np.std(sample, axis=0)\n",
        "mean = np.mean(sample, axis=0)\n",
        "state = ca.seed(1, SIZE)"
      ],
      "metadata": {
        "id": "4HvtDmlZVTXS"
      },
      "execution_count": null,
      "outputs": []
    },
    {
      "cell_type": "code",
      "source": [
        "with torch.no_grad():\n",
        "  state = ca.seed(1, sz=SIZE)\n",
        "\n",
        "n1, n2 = 0,3\n",
        "\n",
        "with VideoWriter(\"out.mp4\", 60.0) as vid:\n",
        "  for i in tqdm_notebook(range(60*8)):\n",
        "    with torch.no_grad():\n",
        "      state = ca(state)\n",
        "    if i > 60:\n",
        "      frame_pca = pca.transform(torch.reshape(state[0][3:,...].permute(1,2,0), (-1, 9)).cpu()).reshape((SIZE, SIZE, N_COMP))[...,n1:n2]\n",
        "      frame_pca = (frame_pca - mean[n1:n2])/(2*std[n1:n2]) + 0.5 \n",
        "      frame_pca = frame_pca[SIZE//4:3*SIZE//4, SIZE//4:3*SIZE//4,:]\n",
        "\n",
        "      frame_vis = to_rgb(state[0][:3, ...]).cpu().permute(1,2,0)\n",
        "      frame_vis = frame_vis[SIZE//4:3*SIZE//4, SIZE//4:3*SIZE//4,:]\n",
        "\n",
        "      frame = np.hstack([frame_vis, frame_pca])\n",
        "      vid.add(frame)\n",
        "vid.show(width=1024)"
      ],
      "metadata": {
        "id": "EbSTL9tShEe9"
      },
      "execution_count": null,
      "outputs": []
    },
    {
      "cell_type": "code",
      "source": [
        ""
      ],
      "metadata": {
        "id": "l3JDmc4XpXOT"
      },
      "execution_count": null,
      "outputs": []
    }
  ],
  "metadata": {
    "accelerator": "GPU",
    "colab": {
      "collapsed_sections": [],
      "name": "texture_nca_pytorchconv_in_conv.ipynb",
      "provenance": [],
      "include_colab_link": true
    },
    "kernelspec": {
      "display_name": "Python 3",
      "name": "python3"
    }
  },
  "nbformat": 4,
  "nbformat_minor": 0
}