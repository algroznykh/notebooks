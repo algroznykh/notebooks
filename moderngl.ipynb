{
  "nbformat": 4,
  "nbformat_minor": 0,
  "metadata": {
    "colab": {
      "name": "moderngl.ipynb",
      "provenance": [],
      "collapsed_sections": [],
      "authorship_tag": "ABX9TyPM57T2GS4IgCCyaCsL1VR0",
      "include_colab_link": true
    },
    "kernelspec": {
      "name": "python3",
      "display_name": "Python 3"
    },
    "language_info": {
      "name": "python"
    },
    "accelerator": "GPU"
  },
  "cells": [
    {
      "cell_type": "markdown",
      "metadata": {
        "id": "view-in-github",
        "colab_type": "text"
      },
      "source": [
        "<a href=\"https://colab.research.google.com/github/algroznykh/notebooks/blob/master/moderngl.ipynb\" target=\"_parent\"><img src=\"https://colab.research.google.com/assets/colab-badge.svg\" alt=\"Open In Colab\"/></a>"
      ]
    },
    {
      "cell_type": "code",
      "execution_count": null,
      "metadata": {
        "colab": {
          "base_uri": "https://localhost:8080/"
        },
        "id": "n8ZIlVm5SIGA",
        "outputId": "5aec43c7-8015-4856-99fd-48cd12058353"
      },
      "outputs": [
        {
          "output_type": "stream",
          "name": "stdout",
          "text": [
            "Collecting moderngl\n",
            "  Downloading moderngl-5.6.4-cp37-cp37m-manylinux1_x86_64.whl (670 kB)\n",
            "\u001b[K     |████████████████████████████████| 670 kB 4.7 MB/s \n",
            "\u001b[?25hCollecting glcontext<3,>=2\n",
            "  Downloading glcontext-2.3.4-cp37-cp37m-manylinux_2_5_x86_64.manylinux1_x86_64.whl (64 kB)\n",
            "\u001b[K     |████████████████████████████████| 64 kB 1.9 MB/s \n",
            "\u001b[?25hInstalling collected packages: glcontext, moderngl\n",
            "Successfully installed glcontext-2.3.4 moderngl-5.6.4\n"
          ]
        }
      ],
      "source": [
        "!pip install moderngl"
      ]
    },
    {
      "cell_type": "code",
      "source": [
        "gridgl = \"\"\"\n",
        "// %%VARIABLE%% will be replaced with consts by python code\n",
        "// author: minu jeong\n",
        "\n",
        "#version 430\n",
        "\n",
        "#define X %%X%%\n",
        "#define Y %%Y%%\n",
        "#define Z %%Z%%\n",
        "#define W %%W%%\n",
        "#define H %%H%%\n",
        "\n",
        "layout(local_size_x=X, local_size_y=Y, local_size_z=Z) in;\n",
        "layout (std430, binding=0) buffer in_0\n",
        "{\n",
        "    vec4 inxs[1];\n",
        "};\n",
        "\n",
        "layout (std430, binding=1) buffer out_0\n",
        "{\n",
        "    vec4 outxs[1];\n",
        "};\n",
        "\n",
        "layout (std430, binding=2) buffer uv_0\n",
        "{\n",
        "    vec2 uvs[1];\n",
        "};\n",
        "\n",
        "#define win_width 5\n",
        "#define win_height 5\n",
        "#define win_wh 25\n",
        "vec4 window[win_wh] = {\n",
        "    // should manually initialize this\n",
        "    vec4(0), vec4(0), vec4(0), vec4(0), vec4(0),\n",
        "    vec4(0), vec4(0), vec4(0), vec4(0), vec4(0),\n",
        "    vec4(0), vec4(0), vec4(0), vec4(0), vec4(0),\n",
        "    vec4(0), vec4(0), vec4(0), vec4(0), vec4(0),\n",
        "    vec4(0), vec4(0), vec4(0), vec4(0), vec4(0)\n",
        "};\n",
        "\n",
        "void main()\n",
        "{\n",
        "    // define consts\n",
        "    const int x = int(gl_LocalInvocationID.x);\n",
        "    const int y = int(gl_WorkGroupID.x);\n",
        "    const int frag_i = x + y * W;\n",
        "\n",
        "    vec2 uv = vec2(x, y);\n",
        " \n",
        "    float gridx = fract(uv.x / 256 * 5. + .5) > .9 ? 1.:0.;\n",
        "    float gridy = fract(uv.y  /256 * 5. + .5) > .9 ? 1.:0.;\n",
        "\n",
        "    vec3 color;\n",
        "    color = vec3(1.) * (gridx+gridy);\n",
        "\n",
        "    //color = vec3(uv, 1.);\n",
        "\n",
        "    //color = vec3(sin(uv.x / 256), 0, sin(uv.y / 256));\n",
        "    // write to buffer\n",
        "    outxs[frag_i] = vec4(color.xyz, 1.0);\n",
        "}\n",
        "\"\"\""
      ],
      "metadata": {
        "id": "e0mzZbSUbCqc"
      },
      "execution_count": 17,
      "outputs": []
    },
    {
      "cell_type": "code",
      "source": [
        "with open('grid.gl', 'w') as f:\n",
        "  f.write(gridgl)"
      ],
      "metadata": {
        "id": "4yfwDRL3bMDc"
      },
      "execution_count": 18,
      "outputs": []
    },
    {
      "cell_type": "code",
      "source": [
        "\n",
        "'''\n",
        "    example of using compute shader.\n",
        "\n",
        "    requirements:\n",
        "     - numpy\n",
        "     - imageio (for output)\n",
        "'''\n",
        "\n",
        "import os\n",
        "\n",
        "import moderngl\n",
        "import numpy as np\n",
        "import imageio  # for output\n",
        "\n",
        "\n",
        "def source(uri, consts):\n",
        "    ''' read gl code '''\n",
        "    with open(uri, 'r') as fp:\n",
        "        content = fp.read()\n",
        "\n",
        "    # feed constant values\n",
        "    for key, value in consts.items():\n",
        "        content = content.replace(f\"%%{key}%%\", str(value))\n",
        "    return content\n",
        "\n",
        "\n",
        "# W = X * Y  // for each run, handles a row of pixels\n",
        "# execute compute shader for H times to complete\n",
        "W = 256\n",
        "H = 256\n",
        "X = W\n",
        "Y = 1\n",
        "Z = 1\n",
        "consts = {\n",
        "    \"W\": W,\n",
        "    \"H\": H,\n",
        "    \"X\": X + 1,\n",
        "    \"Y\": Y,\n",
        "    \"Z\": Z,\n",
        "}\n",
        "\n",
        "FRAMES = 5\n",
        "SOURCE_PATH = os.path.dirname('/content/')\n",
        "OUTPUT_DIRPATH = os.path.join(SOURCE_PATH, \"output\")\n",
        "\n",
        "if not os.path.isdir(OUTPUT_DIRPATH):\n",
        "    os.makedirs(OUTPUT_DIRPATH)\n",
        "\n",
        "glsl_file = os.path.join(SOURCE_PATH, 'grid.gl')\n",
        "# context = moderngl.create_standalone_context(require=430)\n",
        "# import moderngl\n",
        "# context = moderngl.create_context(\n",
        "#     standalone=True,\n",
        "#     libgl='libGL.so.1',\n",
        "#     libx11='libX11.so.6',\n",
        "# )\n",
        "\n",
        "# context= moderngl.create_context(\n",
        "#     standalone=True,\n",
        "#     backend='egl',\n",
        "#     libgl='libGL.so.1',\n",
        "#     libegl='libEGL.so.1',\n",
        "# )\n",
        "\n",
        "context = moderngl.create_context(standalone=True, backend='egl')\n",
        "\n",
        "\n",
        "compute_shader = context.compute_shader(source(glsl_file, consts))\n",
        "\n",
        "# init buffers\n",
        "buffer_a_data = np.random.uniform(0.0, 1.0, (H, W, 4)).astype('f4')\n",
        "buffer_a = context.buffer(buffer_a_data)\n",
        "buffer_b_data = np.zeros((H, W, 4)).astype('f4')\n",
        "buffer_b = context.buffer(buffer_b_data)\n",
        "\n",
        "imgs = []\n",
        "last_buffer = buffer_b\n",
        "toggle = True\n",
        "buffer_a.bind_to_storage_buffer(1 if toggle else 0)\n",
        "buffer_b.bind_to_storage_buffer(0 if toggle else 1)\n",
        "\n",
        "# toggle 2 buffers as input and output\n",
        "last_buffer = buffer_a if toggle else buffer_b\n",
        "\n",
        "# local invocation id x -> pixel x\n",
        "# work groupid x -> pixel y\n",
        "# eg) buffer[x, y] = gl_LocalInvocationID.x + gl_WorkGroupID.x * W\n",
        "compute_shader.run(group_x=H, group_y=1)\n",
        "\n",
        "# print out\n",
        "output = np.frombuffer(last_buffer.read(), dtype=np.float32)\n",
        "output = output.reshape((H, W, 4))\n",
        "output = np.multiply(output, 255).astype(np.uint8)\n",
        "imageio.imwrite('frame.png', output, \"PNG\")\n",
        "\n"
      ],
      "metadata": {
        "id": "7lIAPbnVSWz3"
      },
      "execution_count": 19,
      "outputs": []
    },
    {
      "cell_type": "code",
      "source": [
        "from PIL import Image\n",
        "Image.open('frame.png')"
      ],
      "metadata": {
        "id": "fxBtN3_9aT8h",
        "colab": {
          "base_uri": "https://localhost:8080/",
          "height": 273
        },
        "outputId": "0dedd832-75a6-4109-a8bb-063b15646ecf"
      },
      "execution_count": 20,
      "outputs": [
        {
          "output_type": "execute_result",
          "data": {
            "image/png": "[encoded data removed]",
            "text/plain": [
              "<PIL.PngImagePlugin.PngImageFile image mode=RGBA size=256x256 at 0x7F22CA4CCE90>"
            ]
          },
          "metadata": {},
          "execution_count": 20
        }
      ]
    }
  ]
}