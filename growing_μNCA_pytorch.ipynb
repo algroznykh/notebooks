{
  "cells": [
    {
      "cell_type": "markdown",
      "metadata": {
        "id": "view-in-github",
        "colab_type": "text"
      },
      "source": [
        "<a href=\"https://colab.research.google.com/github/algroznykh/notebooks/blob/master/growing_%CE%BCNCA_pytorch.ipynb\" target=\"_parent\"><img src=\"https://colab.research.google.com/assets/colab-badge.svg\" alt=\"Open In Colab\"/></a>"
      ]
    },
    {
      "cell_type": "markdown",
      "metadata": {
        "id": "YXmZVLRkBe2q"
      },
      "source": [
        "## μNCA: Texture Generation with Ultra-Compact Neural Cellular Automata\n",
        "\n",
        "*We strongly encourage using [this link](https://colab.research.google.com/github/google-research/self-organising-systems/blob/master/notebooks/%CE%BCNCA_pytorch.ipynb) to open the notebook in Colaboratory.*\n",
        "\n",
        "This notebook contains code to reproduce experiments and figures for [\"μNCA: Texture Generation with Ultra-Compact Neural Cellular Automata\"](https://arxiv.org/abs/2111.13545) article.\n",
        "\n",
        "Copyright 2021 Google LLC\n",
        "\n",
        "Licensed under the Apache License, Version 2.0 (the \"License\");\n",
        "you may not use this file except in compliance with the License.\n",
        "You may obtain a copy of the License at\n",
        "\n",
        "    https://www.apache.org/licenses/LICENSE-2.0\n",
        "\n",
        "Unless required by applicable law or agreed to in writing, software\n",
        "distributed under the License is distributed on an \"AS IS\" BASIS,\n",
        "WITHOUT WARRANTIES OR CONDITIONS OF ANY KIND, either express or implied.\n",
        "See the License for the specific language governing permissions and\n",
        "limitations under the License."
      ]
    },
    {
      "cell_type": "code",
      "execution_count": 1,
      "metadata": {
        "cellView": "form",
        "colab": {
          "base_uri": "https://localhost:8080/"
        },
        "id": "FR8YNR-g9JXA",
        "outputId": "684d33a2-9fdb-4bc2-9bd9-f08d8ac2b909"
      },
      "outputs": [
        {
          "output_type": "stream",
          "name": "stdout",
          "text": [
            "Colab only includes TensorFlow 2.x; %tensorflow_version has no effect.\n",
            "\u001b[?25l\n",
            "\u001b[33mWARNING: pykeops 2.1 does not provide the extra 'colab'\u001b[0m\n",
            "\u001b[?25h\u001b[?25l\n",
            "\u001b[?25h\u001b[?25l\n",
            "\u001b[?25h  Building wheel for geomloss (setup.py) ... \u001b[?25l\u001b[?25hdone\n",
            "  Building wheel for pykeops (setup.py) ... \u001b[?25l\u001b[?25hdone\n",
            "  Building wheel for keopscore (setup.py) ... \u001b[?25l\u001b[?25hdone\n",
            "GPU 0: Tesla P100-PCIE-16GB (UUID: GPU-c14ec042-691d-cb76-87fc-35c2022c7c4d)\n"
          ]
        }
      ],
      "source": [
        "#@title imports, helpers \n",
        "%tensorflow_version 2.x\n",
        "\n",
        "import os\n",
        "import io\n",
        "import PIL.Image, PIL.ImageDraw, PIL.ImageFont\n",
        "import base64\n",
        "import zipfile\n",
        "import json\n",
        "import requests\n",
        "import numpy as np\n",
        "import matplotlib.pylab as pl\n",
        "import glob\n",
        "!pip install -q --progress-bar off einops\n",
        "from einops import rearrange\n",
        "!pip install -q --progress-bar off pykeops[colab] geomloss\n",
        "from IPython.display import Image, HTML, clear_output\n",
        "from tqdm import tqdm_notebook, tnrange\n",
        "import torch\n",
        "import torch.nn.functional as F\n",
        "import torch.nn as nn\n",
        "import torchvision.models as models\n",
        "from functools import partial\n",
        "\n",
        "os.environ['FFMPEG_BINARY'] = 'ffmpeg'\n",
        "import moviepy.editor as mvp\n",
        "from moviepy.video.io.ffmpeg_writer import FFMPEG_VideoWriter\n",
        "\n",
        "\n",
        "def imread(url, max_size=None, mode=None):\n",
        "  if url.startswith(('http:', 'https:')):\n",
        "    # wikimedia requires a user agent\n",
        "    headers = {\n",
        "      \"User-Agent\": \"Requests in Colab/0.0 (https://colab.research.google.com/; no-reply@google.com) requests/0.0\"\n",
        "    }\n",
        "    r = requests.get(url, headers=headers)\n",
        "    f = io.BytesIO(r.content)\n",
        "  else:\n",
        "    f = url\n",
        "  img = PIL.Image.open(f)\n",
        "  if max_size is not None:\n",
        "    img.thumbnail((max_size, max_size), PIL.Image.ANTIALIAS)\n",
        "  if mode is not None:\n",
        "    img = img.convert(mode)\n",
        "  img = np.float32(img)/255.0\n",
        "  return img\n",
        "\n",
        "def np2pil(a):\n",
        "  if a.dtype in [np.float32, np.float64]:\n",
        "    a = np.uint8(np.clip(a, 0, 1)*255)\n",
        "  return PIL.Image.fromarray(a)\n",
        "\n",
        "def imwrite(f, a, fmt=None):\n",
        "  a = np.asarray(a)\n",
        "  if isinstance(f, str):\n",
        "    fmt = f.rsplit('.', 1)[-1].lower()\n",
        "    if fmt == 'jpg':\n",
        "      fmt = 'jpeg'\n",
        "    f = open(f, 'wb')\n",
        "  np2pil(a).save(f, fmt, quality=95)\n",
        "\n",
        "def imencode(a, fmt='jpeg'):\n",
        "  a = np.asarray(a)\n",
        "  if len(a.shape) == 3 and a.shape[-1] == 4:\n",
        "    fmt = 'png'\n",
        "  f = io.BytesIO()\n",
        "  imwrite(f, a, fmt)\n",
        "  return f.getvalue()\n",
        "\n",
        "def im2url(a, fmt='jpeg'):\n",
        "  encoded = imencode(a, fmt)\n",
        "  base64_byte_string = base64.b64encode(encoded).decode('ascii')\n",
        "  return 'data:image/' + fmt.upper() + ';base64,' + base64_byte_string\n",
        "\n",
        "def imshow(a, fmt='jpeg'):\n",
        "  display(Image(data=imencode(a, fmt)))\n",
        "\n",
        "def tile2d(a, w=None):\n",
        "  a = np.asarray(a)\n",
        "  if w is None:\n",
        "    w = int(np.ceil(np.sqrt(len(a))))\n",
        "  th, tw = a.shape[1:3]\n",
        "  pad = (w-len(a))%w\n",
        "  a = np.pad(a, [(0, pad)]+[(0, 0)]*(a.ndim-1), 'constant')\n",
        "  h = len(a)//w\n",
        "  a = a.reshape([h, w]+list(a.shape[1:]))\n",
        "  a = np.rollaxis(a, 2, 1).reshape([th*h, tw*w]+list(a.shape[4:]))\n",
        "  return a\n",
        "\n",
        "def zoom(img, scale=4):\n",
        "  img = np.repeat(img, scale, 0)\n",
        "  img = np.repeat(img, scale, 1)\n",
        "  return img\n",
        "\n",
        "class VideoWriter:\n",
        "  def __init__(self, filename='_autoplay.mp4', fps=30.0, **kw):\n",
        "    self.writer = None\n",
        "    self.params = dict(filename=filename, fps=fps, **kw)\n",
        "\n",
        "  def add(self, img):\n",
        "    img = np.asarray(img)\n",
        "    if self.writer is None:\n",
        "      h, w = img.shape[:2]\n",
        "      self.writer = FFMPEG_VideoWriter(size=(w, h), **self.params)\n",
        "    if img.dtype in [np.float32, np.float64]:\n",
        "      img = np.uint8(img.clip(0, 1)*255)\n",
        "    if len(img.shape) == 2:\n",
        "      img = np.repeat(img[..., None], 3, -1)\n",
        "    self.writer.write_frame(img)\n",
        "\n",
        "  def close(self):\n",
        "    if self.writer:\n",
        "      self.writer.close()\n",
        "\n",
        "  def __enter__(self):\n",
        "    return self\n",
        "\n",
        "  def __exit__(self, *kw):\n",
        "    self.close()\n",
        "    if self.params['filename'] == '_autoplay.mp4':\n",
        "      self.show()\n",
        "\n",
        "  def show(self, **kw):\n",
        "      self.close()\n",
        "      fn = self.params['filename']\n",
        "      display(mvp.ipython_display(fn, **kw))\n",
        "\n",
        "class LoopWriter(VideoWriter):\n",
        "  def __init__(self, *a, fade_len=1.0, **kw):\n",
        "    super().__init__(*a, **kw)\n",
        "    self._intro = []\n",
        "    self._outro = []\n",
        "    self.fade_len = int(fade_len*self.params['fps'])\n",
        "\n",
        "  def add(self, img):\n",
        "    if len(self._intro) < self.fade_len:\n",
        "      self._intro.append(img)\n",
        "      return\n",
        "    self._outro.append(img)\n",
        "    if len(self._outro) > self.fade_len:\n",
        "      super().add(self._outro.pop(0))\n",
        "  \n",
        "  def close(self):\n",
        "    for t in np.linspace(0, 1, len(self._intro)):\n",
        "      img = self._intro.pop(0)*t + self._outro.pop(0)*(1.0-t)\n",
        "      super().add(img)\n",
        "    super().close()\n",
        "\n",
        "\n",
        "torch.set_default_tensor_type('torch.cuda.FloatTensor')\n",
        "\n",
        "def to_nchw(img):\n",
        "  img = torch.as_tensor(img)\n",
        "  if len(img.shape) == 3:\n",
        "    img = img[None,...]\n",
        "  return img.permute(0, 3, 1, 2)\n",
        "\n",
        "!nvidia-smi -L"
      ]
    },
    {
      "cell_type": "code",
      "execution_count": 83,
      "metadata": {
        "cellView": "code",
        "id": "YdWeJ1HydeZ7"
      },
      "outputs": [],
      "source": [
        "def create_l2_loss(target_img):\n",
        "  def loss_f(imgs):\n",
        "    \n",
        "    loss = torch.square(target_img - imgs).mean()\n",
        "    return loss\n",
        "  return loss_f\n",
        "\n",
        "\n",
        "def create_l1_loss(target_img):\n",
        "  def loss_f(imgs):\n",
        "    loss = torch.abs(target_img - imgs).mean()\n",
        "    return loss\n",
        "  return loss_f\n"
      ]
    },
    {
      "cell_type": "code",
      "execution_count": 196,
      "metadata": {
        "colab": {
          "base_uri": "https://localhost:8080/"
        },
        "id": "ewXnAPrbHx0-",
        "outputId": "8d5c56d7-7370-4bf6-d7bd-490cbab69ea0"
      },
      "outputs": [
        {
          "output_type": "stream",
          "name": "stdout",
          "text": [
            "param count: 588\n"
          ]
        }
      ],
      "source": [
        "# μNCA \n",
        "side = torch.tensor([[0.0, 0.0,0.0], [2.0,-2.0,0.0], [0.0, 0.0,0.0]]) \n",
        "sobel_x = torch.tensor([[-1.0,0.0,1.0],[-2.0,0.0,2.0],[-1.0,0.0,1.0]]) \n",
        "lap = torch.tensor([[1.0,2.0,1.0],[2.0,-12,2.0],[1.0,2.0,1.0]])\n",
        "\n",
        "# filters = [lap]*2+[sobel_x]*1+[sobel_x.T]*1  # 68 params\n",
        "# filters = [lap]*2+[sobel_x]*2+[sobel_x.T]*2 # 150 params\n",
        "# filters = [lap]*4+[sobel_x]*2+[sobel_x.T]*2  # 264 params\n",
        "filters = [lap]*4+[sobel_x]*4+[sobel_x.T]*4  # 588 params\n",
        "\n",
        "filters = torch.stack(filters)[:,None]\n",
        "CHN = len(filters)\n",
        "\n",
        "class CA(torch.nn.Module):\n",
        "  def __init__(self):\n",
        "    super().__init__()\n",
        "    self.w = torch.nn.Parameter(torch.randn(CHN, 4*CHN+1, 1, 1)*1e-3)\n",
        "\n",
        "  def to_rgb(self, x):\n",
        "    return x[...,:3,:,:]  # +0.5\n",
        "\n",
        "  def forward(self, x, update_rate=1.0):\n",
        "    y = torch.nn.functional.pad(x, [1, 1, 1, 1], 'circular')\n",
        "    y = torch.nn.functional.conv2d(y, filters, groups=y.shape[1])\n",
        "    y = torch.cat([x, y], 1)\n",
        "    y = y = torch.cat([y, y.abs()], 1)\n",
        "    #y = torch.cat([y.relu(), -(-y).relu()], 1)\n",
        "    w, b = self.w[:,:-1], self.w[:,-1,0,0]\n",
        "    y = torch.nn.functional.conv2d(y, w, b)\n",
        "    if update_rate<1.0:\n",
        "      y *= (torch.rand(*y.shape)+update_rate).floor()\n",
        "\n",
        "    # alive masking\n",
        "    # x = torch.nn.functional.relu(x + .5) - .5\n",
        "    # x[...,:3,:] = torch.nn.functional.relu(x[...,:3,:])\n",
        "    \n",
        "    return x+y, y\n",
        "    \n",
        "def seed_f(n, sz=128):\n",
        "  s = torch.zeros(n, CHN, sz, sz) \n",
        "  s[:, :, int(sz/2), int(sz/2)] = 1.\n",
        "  return s\n",
        "  # return torch.rand(n, CHN, sz, sz)-0.5\n",
        "\n",
        "ca = CA()\n",
        "print('param count:', sum(p.numel() for p in ca.parameters()))"
      ]
    },
    {
      "cell_type": "code",
      "execution_count": 211,
      "metadata": {
        "colab": {
          "base_uri": "https://localhost:8080/",
          "height": 162
        },
        "id": "5NNHH6fSsLvv",
        "outputId": "0fbe593b-0cf7-4b6b-aa40-94efe55c4858"
      },
      "outputs": [
        {
          "output_type": "stream",
          "name": "stdout",
          "text": [
            "(128, 128, 3)\n"
          ]
        },
        {
          "output_type": "display_data",
          "data": {
            "image/jpeg": "[encoded data removed]",
            "text/plain": [
              "<IPython.core.display.Image object>"
            ]
          },
          "metadata": {}
        }
      ],
      "source": [
        "# target\n",
        "url = 'https://www.robots.ox.ac.uk/~vgg/data/dtd/thumbs/bubbly/bubbly_0101.jpg'\n",
        "# url = 'https://upload.wikimedia.org/wikipedia/commons/thumb/b/b3/Mkhedruli_a.svg/640px-Mkhedruli_a.svg.png'\n",
        "# url = 'https://imgur.com/z3phYQw'\n",
        "# url = 'https://i.imgur.com/z3phYQw.png'\n",
        "# url = 'https://i.imgur.com/GPZnuRE.jpg'\n",
        "# url = 'http://2.bp.blogspot.com/-NY1r4-l0QS0/T9UD3Q-gHCI/AAAAAAAAB44/WfaoduQ6d4s/s1600/georgian-alphabet.jpg'\n",
        "# url = 'https://i.imgur.com/RLpGgsO.jpg'\n",
        "# url = 'https://i.imgur.com/vWwuGJj.jpg'\n",
        "url = 'https://i.imgur.com/mkBadnc.jpg'\n",
        "\n",
        "with torch.no_grad():\n",
        "  style_img = imread(url, max_size=128)\n",
        "  print(style_img.shape)\n",
        "  # style_img.resize((128,104, 4))\n",
        "  # texture_loss_f = create_ot_loss(to_nchw(style_img), ksize=3, leveln=2)\n",
        "  texture_loss_f = create_l2_loss(torch.stack([to_nchw(style_img) for _ in range(4)]))\n",
        "  # texture_loss_f = create_l1_loss(torch.tensor([style_img for _ in range(4)]))\n",
        "\n",
        "imshow(style_img)"
      ]
    },
    {
      "cell_type": "code",
      "execution_count": 212,
      "metadata": {
        "id": "9Cd1uMD3cZw3",
        "colab": {
          "base_uri": "https://localhost:8080/"
        },
        "outputId": "ce78d76f-494c-4d76-e502-d6066393be20"
      },
      "outputs": [
        {
          "output_type": "stream",
          "name": "stdout",
          "text": [
            "rm: cannot remove '*.pt': No such file or directory\n"
          ]
        }
      ],
      "source": [
        "#@title setup training\n",
        "ca = CA() \n",
        "opt = torch.optim.Adam(ca.parameters(), 1e-3)\n",
        "lr_sched = torch.optim.lr_scheduler.MultiStepLR(opt, [1000, 4000], 0.3)\n",
        "loss_log = []\n",
        "with torch.no_grad():\n",
        "  pool = seed_f(256)\n",
        "!rm *.pt"
      ]
    },
    {
      "cell_type": "code",
      "execution_count": 213,
      "metadata": {
        "id": "l0GYHC3U-cd1"
      },
      "outputs": [],
      "source": [
        "torch.backends.cudnn.benchmark = True"
      ]
    },
    {
      "cell_type": "code",
      "source": [
        "torch.tensor([style_img for _ in range(4)]).shape"
      ],
      "metadata": {
        "colab": {
          "base_uri": "https://localhost:8080/"
        },
        "id": "pnG068rVm_Ie",
        "outputId": "b1c4918d-57fb-4132-d426-39f6676b395f"
      },
      "execution_count": 214,
      "outputs": [
        {
          "output_type": "execute_result",
          "data": {
            "text/plain": [
              "torch.Size([4, 128, 128, 3])"
            ]
          },
          "metadata": {},
          "execution_count": 214
        }
      ]
    },
    {
      "cell_type": "code",
      "execution_count": 236,
      "metadata": {
        "colab": {
          "base_uri": "https://localhost:8080/",
          "height": 1000
        },
        "id": "3pxjdESnYlIC",
        "outputId": "95490080-89b0-4d64-f080-5a5056bfb478"
      },
      "outputs": [
        {
          "output_type": "display_data",
          "data": {
            "text/plain": [
              "<Figure size 432x288 with 1 Axes>"
            ],
            "image/png": "[encoded data removed]"
          },
          "metadata": {
            "needs_background": "light"
          }
        },
        {
          "output_type": "display_data",
          "data": {
            "image/jpeg": "[encoded data removed]",
            "text/plain": [
              "<IPython.core.display.Image object>"
            ]
          },
          "metadata": {}
        },
        {
          "output_type": "display_data",
          "data": {
            "image/jpeg": "[encoded data removed]",
            "text/plain": [
              "<IPython.core.display.Image object>"
            ]
          },
          "metadata": {}
        },
        {
          "output_type": "display_data",
          "data": {
            "image/jpeg": "[encoded data removed]",
            "text/plain": [
              "<IPython.core.display.Image object>"
            ]
          },
          "metadata": {}
        },
        {
          "output_type": "stream",
          "name": "stdout",
          "text": [
            "step_n: 9262  loss: 0.00896443985402584  lr: 8.999999999999999e-05"
          ]
        },
        {
          "output_type": "error",
          "ename": "KeyboardInterrupt",
          "evalue": "ignored",
          "traceback": [
            "\u001b[0;31m---------------------------------------------------------------------------\u001b[0m",
            "\u001b[0;31mKeyboardInterrupt\u001b[0m                         Traceback (most recent call last)",
            "\u001b[0;32m<ipython-input-236-ab9c6ef541a0>\u001b[0m in \u001b[0;36m<module>\u001b[0;34m\u001b[0m\n\u001b[1;32m     22\u001b[0m     \u001b[0mx\u001b[0m\u001b[0;34m.\u001b[0m\u001b[0mregister_hook\u001b[0m\u001b[0;34m(\u001b[0m\u001b[0mpartial\u001b[0m\u001b[0;34m(\u001b[0m\u001b[0mF\u001b[0m\u001b[0;34m.\u001b[0m\u001b[0mnormalize\u001b[0m\u001b[0;34m,\u001b[0m \u001b[0mdim\u001b[0m\u001b[0;34m=\u001b[0m\u001b[0;34m[\u001b[0m\u001b[0;36m1\u001b[0m\u001b[0;34m,\u001b[0m\u001b[0;36m2\u001b[0m\u001b[0;34m,\u001b[0m\u001b[0;36m3\u001b[0m\u001b[0;34m]\u001b[0m\u001b[0;34m)\u001b[0m\u001b[0;34m)\u001b[0m\u001b[0;34m\u001b[0m\u001b[0;34m\u001b[0m\u001b[0m\n\u001b[1;32m     23\u001b[0m   \u001b[0mtotal_loss\u001b[0m\u001b[0;34m,\u001b[0m \u001b[0mloss\u001b[0m \u001b[0;34m=\u001b[0m \u001b[0mloss_f\u001b[0m\u001b[0;34m(\u001b[0m\u001b[0mx\u001b[0m\u001b[0;34m)\u001b[0m\u001b[0;34m\u001b[0m\u001b[0;34m\u001b[0m\u001b[0m\n\u001b[0;32m---> 24\u001b[0;31m   \u001b[0mtotal_loss\u001b[0m\u001b[0;34m.\u001b[0m\u001b[0mbackward\u001b[0m\u001b[0;34m(\u001b[0m\u001b[0;34m)\u001b[0m\u001b[0;34m\u001b[0m\u001b[0;34m\u001b[0m\u001b[0m\n\u001b[0m\u001b[1;32m     25\u001b[0m   \u001b[0;32mwith\u001b[0m \u001b[0mtorch\u001b[0m\u001b[0;34m.\u001b[0m\u001b[0mno_grad\u001b[0m\u001b[0;34m(\u001b[0m\u001b[0;34m)\u001b[0m\u001b[0;34m:\u001b[0m\u001b[0;34m\u001b[0m\u001b[0;34m\u001b[0m\u001b[0m\n\u001b[1;32m     26\u001b[0m     \u001b[0;32mfor\u001b[0m \u001b[0mp\u001b[0m \u001b[0;32min\u001b[0m \u001b[0mca\u001b[0m\u001b[0;34m.\u001b[0m\u001b[0mparameters\u001b[0m\u001b[0;34m(\u001b[0m\u001b[0;34m)\u001b[0m\u001b[0;34m:\u001b[0m\u001b[0;34m\u001b[0m\u001b[0;34m\u001b[0m\u001b[0m\n",
            "\u001b[0;32m/usr/local/lib/python3.7/dist-packages/torch/_tensor.py\u001b[0m in \u001b[0;36mbackward\u001b[0;34m(self, gradient, retain_graph, create_graph, inputs)\u001b[0m\n\u001b[1;32m    394\u001b[0m                 \u001b[0mcreate_graph\u001b[0m\u001b[0;34m=\u001b[0m\u001b[0mcreate_graph\u001b[0m\u001b[0;34m,\u001b[0m\u001b[0;34m\u001b[0m\u001b[0;34m\u001b[0m\u001b[0m\n\u001b[1;32m    395\u001b[0m                 inputs=inputs)\n\u001b[0;32m--> 396\u001b[0;31m         \u001b[0mtorch\u001b[0m\u001b[0;34m.\u001b[0m\u001b[0mautograd\u001b[0m\u001b[0;34m.\u001b[0m\u001b[0mbackward\u001b[0m\u001b[0;34m(\u001b[0m\u001b[0mself\u001b[0m\u001b[0;34m,\u001b[0m \u001b[0mgradient\u001b[0m\u001b[0;34m,\u001b[0m \u001b[0mretain_graph\u001b[0m\u001b[0;34m,\u001b[0m \u001b[0mcreate_graph\u001b[0m\u001b[0;34m,\u001b[0m \u001b[0minputs\u001b[0m\u001b[0;34m=\u001b[0m\u001b[0minputs\u001b[0m\u001b[0;34m)\u001b[0m\u001b[0;34m\u001b[0m\u001b[0;34m\u001b[0m\u001b[0m\n\u001b[0m\u001b[1;32m    397\u001b[0m \u001b[0;34m\u001b[0m\u001b[0m\n\u001b[1;32m    398\u001b[0m     \u001b[0;32mdef\u001b[0m \u001b[0mregister_hook\u001b[0m\u001b[0;34m(\u001b[0m\u001b[0mself\u001b[0m\u001b[0;34m,\u001b[0m \u001b[0mhook\u001b[0m\u001b[0;34m)\u001b[0m\u001b[0;34m:\u001b[0m\u001b[0;34m\u001b[0m\u001b[0;34m\u001b[0m\u001b[0m\n",
            "\u001b[0;32m/usr/local/lib/python3.7/dist-packages/torch/autograd/__init__.py\u001b[0m in \u001b[0;36mbackward\u001b[0;34m(tensors, grad_tensors, retain_graph, create_graph, grad_variables, inputs)\u001b[0m\n\u001b[1;32m    173\u001b[0m     Variable._execution_engine.run_backward(  # Calls into the C++ engine to run the backward pass\n\u001b[1;32m    174\u001b[0m         \u001b[0mtensors\u001b[0m\u001b[0;34m,\u001b[0m \u001b[0mgrad_tensors_\u001b[0m\u001b[0;34m,\u001b[0m \u001b[0mretain_graph\u001b[0m\u001b[0;34m,\u001b[0m \u001b[0mcreate_graph\u001b[0m\u001b[0;34m,\u001b[0m \u001b[0minputs\u001b[0m\u001b[0;34m,\u001b[0m\u001b[0;34m\u001b[0m\u001b[0;34m\u001b[0m\u001b[0m\n\u001b[0;32m--> 175\u001b[0;31m         allow_unreachable=True, accumulate_grad=True)  # Calls into the C++ engine to run the backward pass\n\u001b[0m\u001b[1;32m    176\u001b[0m \u001b[0;34m\u001b[0m\u001b[0m\n\u001b[1;32m    177\u001b[0m def grad(\n",
            "\u001b[0;31mKeyboardInterrupt\u001b[0m: "
          ]
        }
      ],
      "source": [
        "#@title training loop {vertical-output: true}\n",
        "\n",
        "def loss_f(x):\n",
        "  loss = texture_loss_f(ca.to_rgb(x))\n",
        "  # loss = texture_loss_f(ca.to_rgb(x))\n",
        "  reg = (x-x.clamp(-1.0, 1.0)).square().sum()\n",
        "  total_loss = loss + reg\n",
        "  return total_loss, loss\n",
        "\n",
        "best_long_loss = np.inf\n",
        "best_long_step = 0\n",
        "\n",
        "for i in range(10000):\n",
        "  batch_idx = np.random.choice(len(pool), 4, replace=False)\n",
        "  x = pool[batch_idx]\n",
        "  if i%2 == 0:   \n",
        "    x[:1] = seed_f(1)\n",
        "  step_n = np.random.randint(64, 128)\n",
        "  torch.autograd.set_grad_enabled(True)\n",
        "  for _ in range(step_n):\n",
        "    x, dx = ca(x)\n",
        "    x.register_hook(partial(F.normalize, dim=[1,2,3]))\n",
        "  total_loss, loss = loss_f(x)\n",
        "  total_loss.backward()\n",
        "  with torch.no_grad():\n",
        "    for p in ca.parameters():\n",
        "      p.grad /= (p.grad.norm()+1e-8)   # normalize gradients \n",
        "    opt.step()\n",
        "    opt.zero_grad()\n",
        "    lr_sched.step()\n",
        "    pool[batch_idx] = x                # update pool\n",
        "    \n",
        "    loss_log.append(loss.item())\n",
        "    if i%64==0:\n",
        "      clear_output(True)\n",
        "\n",
        "      min_loss = np.min(loss_log)\n",
        "      pl.plot(loss_log, '.', alpha=0.1)\n",
        "      if min_loss > 0.0:\n",
        "        pl.yscale('log')\n",
        "      pl.ylim(min_loss, loss_log[len(loss_log)//5])\n",
        "      pl.show()\n",
        "      imgs = ca.to_rgb(x).permute([0, 2, 3, 1]).cpu()\n",
        "      imshow(np.hstack(imgs))\n",
        "      pl.show()\n",
        "      p = ca.w.cpu()[:,:,0,0]\n",
        "      vis = torch.stack([(-p).relu(), p.relu(), 0.0*p], -1)\n",
        "      vis *= 1.0/vis.max()\n",
        "      imshow(zoom(vis))\n",
        "      pl.show()\n",
        "\n",
        "      # show long-term behaviour\n",
        "      x = seed_f(1)\n",
        "      for _ in range(3000):\n",
        "        x, _ = ca(x)\n",
        "      img = ca.to_rgb(x)[0].permute(1, 2, 0).cpu()\n",
        "      imshow(img)\n",
        "      _, long_loss = loss_f(x.clip(-1, 1))\n",
        "      if long_loss<best_long_loss and len(loss_log)-best_long_step > 100:\n",
        "        torch.save(ca, 'ca_%05d.pt'%len(loss_log))\n",
        "        best_long_loss = long_loss\n",
        "        best_long_step = len(loss_log)\n",
        "\n",
        "    if i%10 == 0:\n",
        "      print('\\rstep_n:', len(loss_log),\n",
        "        ' loss:', loss.item(), \n",
        "        ' lr:', lr_sched.get_lr()[0], end='')"
      ]
    },
    {
      "cell_type": "code",
      "execution_count": 237,
      "metadata": {
        "colab": {
          "base_uri": "https://localhost:8080/",
          "height": 345,
          "referenced_widgets": [
            "647508ed0593476ab95733a15f193181",
            "90f8ee5743ec447dbcc66db0405667d6",
            "9ef080f3f1cc4664bb31a2ab0d467aef",
            "a54a4dab2440442eb914633bf356507d",
            "08f699ed0c004a408570a53f39db7098",
            "52e83c06666740f9a6011a40557376d6",
            "d643b97b1d0944e3865b2591d24ffbc2",
            "7b5aa66cd893499e81b7a82f71ff952e",
            "ee2a5b651aba49cab1a95b69298e92b1",
            "6f92ae5f74a84379a1286554403b4f45",
            "40b22603580c4865bd55f699bec6c1b3"
          ]
        },
        "id": "v8T3OJ4nabjB",
        "outputId": "35f6444a-3052-4826-e0d8-2f0a76f84875"
      },
      "outputs": [
        {
          "output_type": "stream",
          "name": "stderr",
          "text": [
            "WARNING:py.warnings:/usr/local/lib/python3.7/dist-packages/ipykernel_launcher.py:5: TqdmDeprecationWarning: Please use `tqdm.notebook.trange` instead of `tqdm.tnrange`\n",
            "  \"\"\"\n",
            "\n"
          ]
        },
        {
          "output_type": "display_data",
          "data": {
            "text/plain": [
              "  0%|          | 0/1000 [00:00<?, ?it/s]"
            ],
            "application/vnd.jupyter.widget-view+json": {
              "version_major": 2,
              "version_minor": 0,
              "model_id": "647508ed0593476ab95733a15f193181"
            }
          },
          "metadata": {}
        },
        {
          "output_type": "display_data",
          "data": {
            "image/jpeg": "[encoded data removed]",
            "text/plain": [
              "<IPython.core.display.Image object>"
            ]
          },
          "metadata": {}
        }
      ],
      "source": [
        "# μNCA pattern after 1000 steps \n",
        "with torch.no_grad():\n",
        "  x = seed_f(1, 128)\n",
        "  ca1 = torch.load('ca_%05d.pt'%best_long_step)\n",
        "  for k in tnrange(1000, leave=False):\n",
        "    x, _ = ca1(x)\n",
        "  img = ca1.to_rgb(x)[0].permute(1, 2, 0).cpu()\n",
        "  imshow(zoom(img, 2))"
      ]
    },
    {
      "cell_type": "code",
      "execution_count": 238,
      "metadata": {
        "colab": {
          "base_uri": "https://localhost:8080/",
          "height": 605,
          "referenced_widgets": [
            "2ab923e1b535499097f5d2eb77982d13",
            "47ec9353582a451cb86035e0c7375a16",
            "4bf18108915b4e8da8e2e7ac337a609d",
            "41abe9c743334037914e0d7effa7073a",
            "19d499f55afa43d9870e6fb3833299a3",
            "f257c1c880bd4ecb8bb8749539f90b99",
            "c07f5e0b127444528e474de0fbb50d5a",
            "94952d5a9e7147de855acc96745856e0",
            "2fedfdbec66b45d0860ba355b003e839",
            "4a6c286427a1439090a5607e76b7da80",
            "ea8557719167406ebc8b85c0d0d62c07"
          ]
        },
        "id": "1S885tTOUvOo",
        "outputId": "4ce5e3f6-c0f7-4f93-e253-9e1839206711"
      },
      "outputs": [
        {
          "output_type": "stream",
          "name": "stderr",
          "text": [
            "WARNING:py.warnings:/usr/local/lib/python3.7/dist-packages/ipykernel_launcher.py:8: TqdmDeprecationWarning: Please use `tqdm.notebook.trange` instead of `tqdm.tnrange`\n",
            "  \n",
            "\n"
          ]
        },
        {
          "output_type": "display_data",
          "data": {
            "text/plain": [
              "  0%|          | 0/200 [00:00<?, ?it/s]"
            ],
            "application/vnd.jupyter.widget-view+json": {
              "version_major": 2,
              "version_minor": 0,
              "model_id": "2ab923e1b535499097f5d2eb77982d13"
            }
          },
          "metadata": {}
        },
        {
          "output_type": "display_data",
          "data": {
            "text/plain": [
              "<moviepy.video.io.html_tools.HTML2 object>"
            ],
            "text/html": [
              "<div align=middle><video src='data:video/mp4;base64,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' controls>Sorry, seems like your browser doesn't support HTML5 audio/video</video></div>"
            ]
          },
          "metadata": {}
        }
      ],
      "source": [
        "#@title μNCA dynamics evolution video {vertical-output: true}\n",
        "with torch.no_grad():\n",
        "  ca1 = torch.load('ca_%05d.pt'%best_long_step)\n",
        "with LoopWriter('final_ca.mp4', fade_len=0.5) as vid, torch.no_grad():\n",
        "  x = seed_f(1, 256)\n",
        "  #x[:] = 0.0\n",
        "  #x[:,:,100, 100] = 1.0\n",
        "  for k in tnrange(200, leave=False):\n",
        "    img = ca.to_rgb(x)[0].permute(1, 2, 0).cpu()\n",
        "    vid.add(zoom(img, 2))\n",
        "    step_n = int(min(2**(k/30), 8))\n",
        "    for i in range(step_n):\n",
        "      x, _ = ca1(x)\n",
        "vid.show()"
      ]
    },
    {
      "cell_type": "code",
      "execution_count": 239,
      "metadata": {
        "colab": {
          "base_uri": "https://localhost:8080/"
        },
        "id": "fGNcrf2ahe6s",
        "outputId": "7da27f7c-9a00-46ba-a3f3-7578c3a435d4"
      },
      "outputs": [
        {
          "output_type": "stream",
          "name": "stdout",
          "text": [
            "2387\n",
            "\n",
            "  vec4 update(float band, vec4 y[6]) {\n",
            "    #define M mat4\n",
            "    #define F(i,_a,_b) {M a=_a,b=_b; vec4 yi=y[i]; dx+=G(0)+G(1)+G(2)+G(3);}\n",
            "    //#define G(i) yi[i]*((yi[i]>0.0)?a[i]:b[i])\n",
            "    #define G(i) (yi[i]*a[i]+abs(yi[i])*b[i])\n",
            "    vec4 dx;\n",
            "  if (band == 0.) { dx = vec4(4,10,14,18);\n",
            "    F(0, M(-94,-7,-8,-9,5,-54,-11,2,15,3,-35,-6,6,12,15,-49), M(-55,4,7,-1,14,-21,8,6,21,18,-5,5,2,-3,-7,14));\n",
            "    F(1, M(-6,2,-1,13,7,5,5,5,6,-4,5,24,-4,5,7,-21), M(6,-3,2,0,-1,9,10,-11,5,3,3,3,-3,0,1,-20));\n",
            "    F(2, M(-18,-10,-8,-13,0,3,6,-7,-2,7,8,-12,7,5,3,10), M(13,15,19,-22,-8,-2,-4,-12,-1,0,-6,-19,-1,-2,-3,2));\n",
            "    F(3, M(14,11,9,3,15,57,74,18,0,-1,43,-6,1,-1,-4,35), M(3,-24,-30,2,-2,-6,-16,-8,-1,3,5,3,-2,-5,-4,5));\n",
            "    F(4, M(4,7,14,-2,-5,-23,-28,-1,-4,-11,-9,2,-4,-14,-20,-7), M(2,14,15,-7,5,13,17,4,-6,15,19,-1,-3,9,11,10));\n",
            "    F(5, M(2,0,0,-2,-4,-14,-19,-2,1,8,9,1,-1,-21,-27,-6), M(1,19,23,-2,-6,-6,-10,6,1,3,2,-6,3,-1,-1,-4));\n",
            "  } else if (band == 1.) { dx = vec4(12,15,3,-6);\n",
            "    F(0, M(-9,-3,-2,3,-13,3,2,-7,-7,-2,-11,-4,-4,9,5,-11), M(2,7,-8,9,-2,5,2,4,3,0,-14,3,20,10,6,-37));\n",
            "    F(1, M(-63,5,15,0,2,-50,18,7,-14,-10,-58,-4,5,5,-1,-33), M(10,-8,-14,4,-6,28,8,20,-11,4,-1,9,-18,-5,-8,-7));\n",
            "    F(2, M(-23,-13,3,-8,-5,13,-9,-4,-2,9,-7,3,6,9,6,0), M(-17,-3,-9,8,-19,18,14,-5,-12,-18,-1,5,3,6,2,2));\n",
            "    F(3, M(14,-1,-21,0,11,-22,8,13,22,-15,-3,23,31,25,5,-22), M(12,7,2,-7,2,-3,1,-6,4,3,22,-2,-7,-6,-4,12));\n",
            "    F(4, M(12,-5,5,2,-1,23,-11,-6,9,-14,-12,-16,-11,6,-13,4), M(-22,-12,7,11,0,-7,1,2,-5,-11,18,2,3,-3,15,0));\n",
            "    F(5, M(-6,-4,-1,5,-2,3,-7,-6,-5,-2,13,2,-20,3,-11,4), M(-13,-17,16,8,5,-1,2,-6,-14,-3,10,7,-2,2,0,1));\n",
            "  } else { dx = vec4(-4,-6,-11,-13);\n",
            "    F(0, M(12,-1,4,-14,2,4,-3,-17,-6,2,-2,-2,13,13,13,7), M(3,-3,6,-13,-2,8,5,-4,-7,4,6,1,54,-3,-26,-14));\n",
            "    F(1, M(4,6,5,-13,36,-2,-14,-8,-4,-3,10,-1,-10,0,9,-5), M(0,-1,0,4,-6,9,8,5,-3,4,-18,11,-1,-2,-10,-7));\n",
            "    F(2, M(-54,10,-7,1,-6,-65,5,-2,-4,9,-60,-5,-6,11,22,-57), M(-3,6,16,-2,-1,-17,7,-7,-9,-9,-8,-27,9,-15,-8,-1));\n",
            "    F(3, M(5,-17,-1,-14,-30,-1,11,13,-10,-16,-7,-6,9,-9,-19,24), M(14,-8,3,-5,14,5,11,5,20,9,17,6,4,9,10,5));\n",
            "    F(4, M(-5,3,-7,4,9,1,-18,-8,9,0,-12,-9,1,-5,-13,-9), M(-16,11,17,-5,-4,-1,7,4,-17,0,14,6,6,15,4,9));\n",
            "    F(5, M(1,5,4,-10,7,-2,-8,-4,-3,8,21,4,9,-7,3,-31), M(-14,13,21,6,2,4,-7,-3,-10,1,18,1,-13,1,-4,-11));\n",
            "  }\n",
            "    #undef M\n",
            "    #undef F\n",
            "    #undef G\n",
            "    return dx/500.0;\n",
            "  }\n"
          ]
        }
      ],
      "source": [
        "# export 588-param to ShaderToy\n",
        "if len(filters) == 12:\n",
        "  w_scale = 500\n",
        "  with torch.no_grad():\n",
        "    w, b = ca1.w[:,:-1,0,0], ca1.w[:,-1,0,0]\n",
        "    weight = (w.T*w_scale).round().cpu()\n",
        "    bias = (b*w_scale).round().cpu()\n",
        "  \n",
        "  code = ['''\n",
        "  vec4 update(float band, vec4 y[6]) {\n",
        "    #define M mat4\n",
        "    #define F(i,_a,_b) {M a=_a,b=_b; vec4 yi=y[i]; dx+=G(0)+G(1)+G(2)+G(3);}\n",
        "    //#define G(i) yi[i]*((yi[i]>0.0)?a[i]:b[i])\n",
        "    #define G(i) (yi[i]*a[i]+abs(yi[i])*b[i])\n",
        "    vec4 dx;''']\n",
        "  mat4_fmt = 'M(%s)'%','.join(['%d']*16)\n",
        "  for i, band in enumerate(np.split(weight, 3, 1)):\n",
        "    s = ' dx = vec4(%d,%d,%d,%d);'%tuple(bias[i*4:i*4+4])\n",
        "    code.append('  '+('if (band == 0.) {', '} else if (band == 1.) {', '} else {')[i] + s)\n",
        "    for j in range(CHN*2//4):\n",
        "      a = mat4_fmt % tuple(band[j*4:][:4].ravel())\n",
        "      b = mat4_fmt % tuple(band[j*4+CHN*2:][:4].ravel())\n",
        "      code.append(f'    F({j}, {a}, {b});')\n",
        "  code.append('''  }\n",
        "    #undef M\n",
        "    #undef F\n",
        "    #undef G\n",
        "    return dx/%.1f;\n",
        "  }'''%w_scale)\n",
        "  code = '\\n'.join(code) \n",
        "  print(len(code))\n",
        "  print(code)"
      ]
    }
  ],
  "metadata": {
    "accelerator": "GPU",
    "colab": {
      "collapsed_sections": [],
      "machine_shape": "hm",
      "provenance": [],
      "include_colab_link": true
    },
    "kernelspec": {
      "display_name": "Python 3",
      "name": "python3"
    },
    "widgets": {
      "application/vnd.jupyter.widget-state+json": {
        "647508ed0593476ab95733a15f193181": {
          "model_module": "@jupyter-widgets/controls",
          "model_name": "HBoxModel",
          "model_module_version": "1.5.0",
          "state": {
            "_dom_classes": [],
            "_model_module": "@jupyter-widgets/controls",
            "_model_module_version": "1.5.0",
            "_model_name": "HBoxModel",
            "_view_count": null,
            "_view_module": "@jupyter-widgets/controls",
            "_view_module_version": "1.5.0",
            "_view_name": "HBoxView",
            "box_style": "",
            "children": [
              "IPY_MODEL_90f8ee5743ec447dbcc66db0405667d6",
              "IPY_MODEL_9ef080f3f1cc4664bb31a2ab0d467aef",
              "IPY_MODEL_a54a4dab2440442eb914633bf356507d"
            ],
            "layout": "IPY_MODEL_08f699ed0c004a408570a53f39db7098"
          }
        },
        "90f8ee5743ec447dbcc66db0405667d6": {
          "model_module": "@jupyter-widgets/controls",
          "model_name": "HTMLModel",
          "model_module_version": "1.5.0",
          "state": {
            "_dom_classes": [],
            "_model_module": "@jupyter-widgets/controls",
            "_model_module_version": "1.5.0",
            "_model_name": "HTMLModel",
            "_view_count": null,
            "_view_module": "@jupyter-widgets/controls",
            "_view_module_version": "1.5.0",
            "_view_name": "HTMLView",
            "description": "",
            "description_tooltip": null,
            "layout": "IPY_MODEL_52e83c06666740f9a6011a40557376d6",
            "placeholder": "​",
            "style": "IPY_MODEL_d643b97b1d0944e3865b2591d24ffbc2",
            "value": " 72%"
          }
        },
        "9ef080f3f1cc4664bb31a2ab0d467aef": {
          "model_module": "@jupyter-widgets/controls",
          "model_name": "FloatProgressModel",
          "model_module_version": "1.5.0",
          "state": {
            "_dom_classes": [],
            "_model_module": "@jupyter-widgets/controls",
            "_model_module_version": "1.5.0",
            "_model_name": "FloatProgressModel",
            "_view_count": null,
            "_view_module": "@jupyter-widgets/controls",
            "_view_module_version": "1.5.0",
            "_view_name": "ProgressView",
            "bar_style": "",
            "description": "",
            "description_tooltip": null,
            "layout": "IPY_MODEL_7b5aa66cd893499e81b7a82f71ff952e",
            "max": 1000,
            "min": 0,
            "orientation": "horizontal",
            "style": "IPY_MODEL_ee2a5b651aba49cab1a95b69298e92b1",
            "value": 1000
          }
        },
        "a54a4dab2440442eb914633bf356507d": {
          "model_module": "@jupyter-widgets/controls",
          "model_name": "HTMLModel",
          "model_module_version": "1.5.0",
          "state": {
            "_dom_classes": [],
            "_model_module": "@jupyter-widgets/controls",
            "_model_module_version": "1.5.0",
            "_model_name": "HTMLModel",
            "_view_count": null,
            "_view_module": "@jupyter-widgets/controls",
            "_view_module_version": "1.5.0",
            "_view_name": "HTMLView",
            "description": "",
            "description_tooltip": null,
            "layout": "IPY_MODEL_6f92ae5f74a84379a1286554403b4f45",
            "placeholder": "​",
            "style": "IPY_MODEL_40b22603580c4865bd55f699bec6c1b3",
            "value": " 722/1000 [00:00&lt;00:00, 3722.49it/s]"
          }
        },
        "08f699ed0c004a408570a53f39db7098": {
          "model_module": "@jupyter-widgets/base",
          "model_name": "LayoutModel",
          "model_module_version": "1.2.0",
          "state": {
            "_model_module": "@jupyter-widgets/base",
            "_model_module_version": "1.2.0",
            "_model_name": "LayoutModel",
            "_view_count": null,
            "_view_module": "@jupyter-widgets/base",
            "_view_module_version": "1.2.0",
            "_view_name": "LayoutView",
            "align_content": null,
            "align_items": null,
            "align_self": null,
            "border": null,
            "bottom": null,
            "display": null,
            "flex": null,
            "flex_flow": null,
            "grid_area": null,
            "grid_auto_columns": null,
            "grid_auto_flow": null,
            "grid_auto_rows": null,
            "grid_column": null,
            "grid_gap": null,
            "grid_row": null,
            "grid_template_areas": null,
            "grid_template_columns": null,
            "grid_template_rows": null,
            "height": null,
            "justify_content": null,
            "justify_items": null,
            "left": null,
            "margin": null,
            "max_height": null,
            "max_width": null,
            "min_height": null,
            "min_width": null,
            "object_fit": null,
            "object_position": null,
            "order": null,
            "overflow": null,
            "overflow_x": null,
            "overflow_y": null,
            "padding": null,
            "right": null,
            "top": null,
            "visibility": "hidden",
            "width": null
          }
        },
        "52e83c06666740f9a6011a40557376d6": {
          "model_module": "@jupyter-widgets/base",
          "model_name": "LayoutModel",
          "model_module_version": "1.2.0",
          "state": {
            "_model_module": "@jupyter-widgets/base",
            "_model_module_version": "1.2.0",
            "_model_name": "LayoutModel",
            "_view_count": null,
            "_view_module": "@jupyter-widgets/base",
            "_view_module_version": "1.2.0",
            "_view_name": "LayoutView",
            "align_content": null,
            "align_items": null,
            "align_self": null,
            "border": null,
            "bottom": null,
            "display": null,
            "flex": null,
            "flex_flow": null,
            "grid_area": null,
            "grid_auto_columns": null,
            "grid_auto_flow": null,
            "grid_auto_rows": null,
            "grid_column": null,
            "grid_gap": null,
            "grid_row": null,
            "grid_template_areas": null,
            "grid_template_columns": null,
            "grid_template_rows": null,
            "height": null,
            "justify_content": null,
            "justify_items": null,
            "left": null,
            "margin": null,
            "max_height": null,
            "max_width": null,
            "min_height": null,
            "min_width": null,
            "object_fit": null,
            "object_position": null,
            "order": null,
            "overflow": null,
            "overflow_x": null,
            "overflow_y": null,
            "padding": null,
            "right": null,
            "top": null,
            "visibility": null,
            "width": null
          }
        },
        "d643b97b1d0944e3865b2591d24ffbc2": {
          "model_module": "@jupyter-widgets/controls",
          "model_name": "DescriptionStyleModel",
          "model_module_version": "1.5.0",
          "state": {
            "_model_module": "@jupyter-widgets/controls",
            "_model_module_version": "1.5.0",
            "_model_name": "DescriptionStyleModel",
            "_view_count": null,
            "_view_module": "@jupyter-widgets/base",
            "_view_module_version": "1.2.0",
            "_view_name": "StyleView",
            "description_width": ""
          }
        },
        "7b5aa66cd893499e81b7a82f71ff952e": {
          "model_module": "@jupyter-widgets/base",
          "model_name": "LayoutModel",
          "model_module_version": "1.2.0",
          "state": {
            "_model_module": "@jupyter-widgets/base",
            "_model_module_version": "1.2.0",
            "_model_name": "LayoutModel",
            "_view_count": null,
            "_view_module": "@jupyter-widgets/base",
            "_view_module_version": "1.2.0",
            "_view_name": "LayoutView",
            "align_content": null,
            "align_items": null,
            "align_self": null,
            "border": null,
            "bottom": null,
            "display": null,
            "flex": null,
            "flex_flow": null,
            "grid_area": null,
            "grid_auto_columns": null,
            "grid_auto_flow": null,
            "grid_auto_rows": null,
            "grid_column": null,
            "grid_gap": null,
            "grid_row": null,
            "grid_template_areas": null,
            "grid_template_columns": null,
            "grid_template_rows": null,
            "height": null,
            "justify_content": null,
            "justify_items": null,
            "left": null,
            "margin": null,
            "max_height": null,
            "max_width": null,
            "min_height": null,
            "min_width": null,
            "object_fit": null,
            "object_position": null,
            "order": null,
            "overflow": null,
            "overflow_x": null,
            "overflow_y": null,
            "padding": null,
            "right": null,
            "top": null,
            "visibility": null,
            "width": null
          }
        },
        "ee2a5b651aba49cab1a95b69298e92b1": {
          "model_module": "@jupyter-widgets/controls",
          "model_name": "ProgressStyleModel",
          "model_module_version": "1.5.0",
          "state": {
            "_model_module": "@jupyter-widgets/controls",
            "_model_module_version": "1.5.0",
            "_model_name": "ProgressStyleModel",
            "_view_count": null,
            "_view_module": "@jupyter-widgets/base",
            "_view_module_version": "1.2.0",
            "_view_name": "StyleView",
            "bar_color": null,
            "description_width": ""
          }
        },
        "6f92ae5f74a84379a1286554403b4f45": {
          "model_module": "@jupyter-widgets/base",
          "model_name": "LayoutModel",
          "model_module_version": "1.2.0",
          "state": {
            "_model_module": "@jupyter-widgets/base",
            "_model_module_version": "1.2.0",
            "_model_name": "LayoutModel",
            "_view_count": null,
            "_view_module": "@jupyter-widgets/base",
            "_view_module_version": "1.2.0",
            "_view_name": "LayoutView",
            "align_content": null,
            "align_items": null,
            "align_self": null,
            "border": null,
            "bottom": null,
            "display": null,
            "flex": null,
            "flex_flow": null,
            "grid_area": null,
            "grid_auto_columns": null,
            "grid_auto_flow": null,
            "grid_auto_rows": null,
            "grid_column": null,
            "grid_gap": null,
            "grid_row": null,
            "grid_template_areas": null,
            "grid_template_columns": null,
            "grid_template_rows": null,
            "height": null,
            "justify_content": null,
            "justify_items": null,
            "left": null,
            "margin": null,
            "max_height": null,
            "max_width": null,
            "min_height": null,
            "min_width": null,
            "object_fit": null,
            "object_position": null,
            "order": null,
            "overflow": null,
            "overflow_x": null,
            "overflow_y": null,
            "padding": null,
            "right": null,
            "top": null,
            "visibility": null,
            "width": null
          }
        },
        "40b22603580c4865bd55f699bec6c1b3": {
          "model_module": "@jupyter-widgets/controls",
          "model_name": "DescriptionStyleModel",
          "model_module_version": "1.5.0",
          "state": {
            "_model_module": "@jupyter-widgets/controls",
            "_model_module_version": "1.5.0",
            "_model_name": "DescriptionStyleModel",
            "_view_count": null,
            "_view_module": "@jupyter-widgets/base",
            "_view_module_version": "1.2.0",
            "_view_name": "StyleView",
            "description_width": ""
          }
        },
        "2ab923e1b535499097f5d2eb77982d13": {
          "model_module": "@jupyter-widgets/controls",
          "model_name": "HBoxModel",
          "model_module_version": "1.5.0",
          "state": {
            "_dom_classes": [],
            "_model_module": "@jupyter-widgets/controls",
            "_model_module_version": "1.5.0",
            "_model_name": "HBoxModel",
            "_view_count": null,
            "_view_module": "@jupyter-widgets/controls",
            "_view_module_version": "1.5.0",
            "_view_name": "HBoxView",
            "box_style": "",
            "children": [
              "IPY_MODEL_47ec9353582a451cb86035e0c7375a16",
              "IPY_MODEL_4bf18108915b4e8da8e2e7ac337a609d",
              "IPY_MODEL_41abe9c743334037914e0d7effa7073a"
            ],
            "layout": "IPY_MODEL_19d499f55afa43d9870e6fb3833299a3"
          }
        },
        "47ec9353582a451cb86035e0c7375a16": {
          "model_module": "@jupyter-widgets/controls",
          "model_name": "HTMLModel",
          "model_module_version": "1.5.0",
          "state": {
            "_dom_classes": [],
            "_model_module": "@jupyter-widgets/controls",
            "_model_module_version": "1.5.0",
            "_model_name": "HTMLModel",
            "_view_count": null,
            "_view_module": "@jupyter-widgets/controls",
            "_view_module_version": "1.5.0",
            "_view_name": "HTMLView",
            "description": "",
            "description_tooltip": null,
            "layout": "IPY_MODEL_f257c1c880bd4ecb8bb8749539f90b99",
            "placeholder": "​",
            "style": "IPY_MODEL_c07f5e0b127444528e474de0fbb50d5a",
            "value": "100%"
          }
        },
        "4bf18108915b4e8da8e2e7ac337a609d": {
          "model_module": "@jupyter-widgets/controls",
          "model_name": "FloatProgressModel",
          "model_module_version": "1.5.0",
          "state": {
            "_dom_classes": [],
            "_model_module": "@jupyter-widgets/controls",
            "_model_module_version": "1.5.0",
            "_model_name": "FloatProgressModel",
            "_view_count": null,
            "_view_module": "@jupyter-widgets/controls",
            "_view_module_version": "1.5.0",
            "_view_name": "ProgressView",
            "bar_style": "",
            "description": "",
            "description_tooltip": null,
            "layout": "IPY_MODEL_94952d5a9e7147de855acc96745856e0",
            "max": 200,
            "min": 0,
            "orientation": "horizontal",
            "style": "IPY_MODEL_2fedfdbec66b45d0860ba355b003e839",
            "value": 200
          }
        },
        "41abe9c743334037914e0d7effa7073a": {
          "model_module": "@jupyter-widgets/controls",
          "model_name": "HTMLModel",
          "model_module_version": "1.5.0",
          "state": {
            "_dom_classes": [],
            "_model_module": "@jupyter-widgets/controls",
            "_model_module_version": "1.5.0",
            "_model_name": "HTMLModel",
            "_view_count": null,
            "_view_module": "@jupyter-widgets/controls",
            "_view_module_version": "1.5.0",
            "_view_name": "HTMLView",
            "description": "",
            "description_tooltip": null,
            "layout": "IPY_MODEL_4a6c286427a1439090a5607e76b7da80",
            "placeholder": "​",
            "style": "IPY_MODEL_ea8557719167406ebc8b85c0d0d62c07",
            "value": " 199/200 [00:01&lt;00:00, 123.27it/s]"
          }
        },
        "19d499f55afa43d9870e6fb3833299a3": {
          "model_module": "@jupyter-widgets/base",
          "model_name": "LayoutModel",
          "model_module_version": "1.2.0",
          "state": {
            "_model_module": "@jupyter-widgets/base",
            "_model_module_version": "1.2.0",
            "_model_name": "LayoutModel",
            "_view_count": null,
            "_view_module": "@jupyter-widgets/base",
            "_view_module_version": "1.2.0",
            "_view_name": "LayoutView",
            "align_content": null,
            "align_items": null,
            "align_self": null,
            "border": null,
            "bottom": null,
            "display": null,
            "flex": null,
            "flex_flow": null,
            "grid_area": null,
            "grid_auto_columns": null,
            "grid_auto_flow": null,
            "grid_auto_rows": null,
            "grid_column": null,
            "grid_gap": null,
            "grid_row": null,
            "grid_template_areas": null,
            "grid_template_columns": null,
            "grid_template_rows": null,
            "height": null,
            "justify_content": null,
            "justify_items": null,
            "left": null,
            "margin": null,
            "max_height": null,
            "max_width": null,
            "min_height": null,
            "min_width": null,
            "object_fit": null,
            "object_position": null,
            "order": null,
            "overflow": null,
            "overflow_x": null,
            "overflow_y": null,
            "padding": null,
            "right": null,
            "top": null,
            "visibility": "hidden",
            "width": null
          }
        },
        "f257c1c880bd4ecb8bb8749539f90b99": {
          "model_module": "@jupyter-widgets/base",
          "model_name": "LayoutModel",
          "model_module_version": "1.2.0",
          "state": {
            "_model_module": "@jupyter-widgets/base",
            "_model_module_version": "1.2.0",
            "_model_name": "LayoutModel",
            "_view_count": null,
            "_view_module": "@jupyter-widgets/base",
            "_view_module_version": "1.2.0",
            "_view_name": "LayoutView",
            "align_content": null,
            "align_items": null,
            "align_self": null,
            "border": null,
            "bottom": null,
            "display": null,
            "flex": null,
            "flex_flow": null,
            "grid_area": null,
            "grid_auto_columns": null,
            "grid_auto_flow": null,
            "grid_auto_rows": null,
            "grid_column": null,
            "grid_gap": null,
            "grid_row": null,
            "grid_template_areas": null,
            "grid_template_columns": null,
            "grid_template_rows": null,
            "height": null,
            "justify_content": null,
            "justify_items": null,
            "left": null,
            "margin": null,
            "max_height": null,
            "max_width": null,
            "min_height": null,
            "min_width": null,
            "object_fit": null,
            "object_position": null,
            "order": null,
            "overflow": null,
            "overflow_x": null,
            "overflow_y": null,
            "padding": null,
            "right": null,
            "top": null,
            "visibility": null,
            "width": null
          }
        },
        "c07f5e0b127444528e474de0fbb50d5a": {
          "model_module": "@jupyter-widgets/controls",
          "model_name": "DescriptionStyleModel",
          "model_module_version": "1.5.0",
          "state": {
            "_model_module": "@jupyter-widgets/controls",
            "_model_module_version": "1.5.0",
            "_model_name": "DescriptionStyleModel",
            "_view_count": null,
            "_view_module": "@jupyter-widgets/base",
            "_view_module_version": "1.2.0",
            "_view_name": "StyleView",
            "description_width": ""
          }
        },
        "94952d5a9e7147de855acc96745856e0": {
          "model_module": "@jupyter-widgets/base",
          "model_name": "LayoutModel",
          "model_module_version": "1.2.0",
          "state": {
            "_model_module": "@jupyter-widgets/base",
            "_model_module_version": "1.2.0",
            "_model_name": "LayoutModel",
            "_view_count": null,
            "_view_module": "@jupyter-widgets/base",
            "_view_module_version": "1.2.0",
            "_view_name": "LayoutView",
            "align_content": null,
            "align_items": null,
            "align_self": null,
            "border": null,
            "bottom": null,
            "display": null,
            "flex": null,
            "flex_flow": null,
            "grid_area": null,
            "grid_auto_columns": null,
            "grid_auto_flow": null,
            "grid_auto_rows": null,
            "grid_column": null,
            "grid_gap": null,
            "grid_row": null,
            "grid_template_areas": null,
            "grid_template_columns": null,
            "grid_template_rows": null,
            "height": null,
            "justify_content": null,
            "justify_items": null,
            "left": null,
            "margin": null,
            "max_height": null,
            "max_width": null,
            "min_height": null,
            "min_width": null,
            "object_fit": null,
            "object_position": null,
            "order": null,
            "overflow": null,
            "overflow_x": null,
            "overflow_y": null,
            "padding": null,
            "right": null,
            "top": null,
            "visibility": null,
            "width": null
          }
        },
        "2fedfdbec66b45d0860ba355b003e839": {
          "model_module": "@jupyter-widgets/controls",
          "model_name": "ProgressStyleModel",
          "model_module_version": "1.5.0",
          "state": {
            "_model_module": "@jupyter-widgets/controls",
            "_model_module_version": "1.5.0",
            "_model_name": "ProgressStyleModel",
            "_view_count": null,
            "_view_module": "@jupyter-widgets/base",
            "_view_module_version": "1.2.0",
            "_view_name": "StyleView",
            "bar_color": null,
            "description_width": ""
          }
        },
        "4a6c286427a1439090a5607e76b7da80": {
          "model_module": "@jupyter-widgets/base",
          "model_name": "LayoutModel",
          "model_module_version": "1.2.0",
          "state": {
            "_model_module": "@jupyter-widgets/base",
            "_model_module_version": "1.2.0",
            "_model_name": "LayoutModel",
            "_view_count": null,
            "_view_module": "@jupyter-widgets/base",
            "_view_module_version": "1.2.0",
            "_view_name": "LayoutView",
            "align_content": null,
            "align_items": null,
            "align_self": null,
            "border": null,
            "bottom": null,
            "display": null,
            "flex": null,
            "flex_flow": null,
            "grid_area": null,
            "grid_auto_columns": null,
            "grid_auto_flow": null,
            "grid_auto_rows": null,
            "grid_column": null,
            "grid_gap": null,
            "grid_row": null,
            "grid_template_areas": null,
            "grid_template_columns": null,
            "grid_template_rows": null,
            "height": null,
            "justify_content": null,
            "justify_items": null,
            "left": null,
            "margin": null,
            "max_height": null,
            "max_width": null,
            "min_height": null,
            "min_width": null,
            "object_fit": null,
            "object_position": null,
            "order": null,
            "overflow": null,
            "overflow_x": null,
            "overflow_y": null,
            "padding": null,
            "right": null,
            "top": null,
            "visibility": null,
            "width": null
          }
        },
        "ea8557719167406ebc8b85c0d0d62c07": {
          "model_module": "@jupyter-widgets/controls",
          "model_name": "DescriptionStyleModel",
          "model_module_version": "1.5.0",
          "state": {
            "_model_module": "@jupyter-widgets/controls",
            "_model_module_version": "1.5.0",
            "_model_name": "DescriptionStyleModel",
            "_view_count": null,
            "_view_module": "@jupyter-widgets/base",
            "_view_module_version": "1.2.0",
            "_view_name": "StyleView",
            "description_width": ""
          }
        }
      }
    }
  },
  "nbformat": 4,
  "nbformat_minor": 0
}