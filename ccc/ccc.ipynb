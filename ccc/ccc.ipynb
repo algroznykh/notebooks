{
 "cells": [
  {
   "cell_type": "markdown",
   "id": "1cf70195-e94c-4ff0-a11e-7d53ccd9495b",
   "metadata": {
    "editable": true,
    "slideshow": {
     "slide_type": "slide"
    },
    "tags": []
   },
   "source": [
    "# Neural Cellular Automata\n",
    "an introduction to differentiable self-organising systems (we'll start at 16:20)\n",
    "\n",
    "<video width=\"50%\" height=\"50%\" \n",
    "       src=\"pleasures.mp4\"  \n",
    "    autoplay=\"true\"\n",
    "    muted=\"true\"\n",
    "    loop=\"true\"\n",
    "    controls\n",
    "    >\n",
    "</video>"
   ]
  },
  {
   "cell_type": "markdown",
   "id": "63684680-51a2-4319-8474-05587b90c52e",
   "metadata": {
    "editable": true,
    "slideshow": {
     "slide_type": "slide"
    },
    "tags": []
   },
   "source": [
    "# table of contents\n",
    "- disclamer\n",
    "- two headed worms\n",
    "- Neural Cellular Automata\n",
    "- texture NCA \n",
    "- implementations\n",
    "- open questions\n"
   ]
  },
  {
   "cell_type": "markdown",
   "id": "fafa3a03-0f5e-4a4d-9186-c4f3e532bf0b",
   "metadata": {
    "editable": true,
    "slideshow": {
     "slide_type": "notes"
    },
    "tags": []
   },
   "source": [
    "intro \n",
    "\n",
    "DISCLAIMER \n",
    "Welcome on self-organized session about self-organizing systems.\n",
    "\n",
    "You should know The I'm going to share with you something that has currently no practical applications.\n",
    "\n",
    "This is a relatively new and also kind of obscure field of research,\n",
    "that at this point is very well suited to making generative art installations\n",
    "and maybe as a vehicle of thinking about how the mind works.\n",
    "\n",
    "You have been WARNED.\n",
    "\n",
    "this talk is an introduction to the field of differentiable self-organising systems\n",
    "with focus on a particular model that is called neural cellular automata\n",
    "\n",
    "what is it good for? \n",
    "ART \n",
    "RESEARCH\n",
    "UNDERSTANDING THE WORLD AND OURSELVES\n"
   ]
  },
  {
   "cell_type": "markdown",
   "id": "066a9469-245f-4ee5-8605-0c6e51a7d44a",
   "metadata": {
    "editable": true,
    "slideshow": {
     "slide_type": "slide"
    },
    "tags": []
   },
   "source": [
    "# Michael Levin's research\n",
    "https://media.neurips.cc/Conferences/NIPS2018/Slides/Levin_bioelectric_computation.pdf\n",
    "\n",
    "https://thoughtforms.life/\n",
    "\n",
    "<img src=\"levin.png\" width=\"70%\" height=\"70%\"> "
   ]
  },
  {
   "cell_type": "markdown",
   "id": "0f06048a-e824-40a3-8d4b-b0588918ed8f",
   "metadata": {
    "editable": true,
    "slideshow": {
     "slide_type": "slide"
    },
    "tags": []
   },
   "source": [
    "# Neural Cellular Automata\n",
    "\n",
    "https://distill.pub/2020/growing-ca/\n",
    "\n",
    "https://google-research.github.io/self-organising-systems/isonca/demo/\n",
    "\n",
    "https://twitter.com/zzznah\n",
    "\n",
    "\n",
    "<video width=\" \" height=\" \" \n",
    "       src=\"planarian.mp4\"  \n",
    "    width=\"70%\" height=\"70%\"\n",
    "    autoplay=\"true\"\n",
    "    muted=\"true\"\n",
    "    loop=\"true\"\n",
    "    controls\n",
    "    >\n",
    "</video>\n",
    "\n"
   ]
  },
  {
   "cell_type": "markdown",
   "id": "d621200a-4f0a-490e-944b-32743d8edba1",
   "metadata": {
    "editable": true,
    "slideshow": {
     "slide_type": "slide"
    },
    "tags": []
   },
   "source": [
    "# Self-Organising textures\n",
    "\n",
    "https://distill.pub/selforg/2021/textures/\n",
    "\n",
    "<video width=\" \" height=\" \" \n",
    "       src=\"chequered_hidden.mp4\"  \n",
    "    autoplay=\"true\"\n",
    "    width=\"70%\" height=\"70%\"\n",
    "    muted=\"true\"\n",
    "    loop=\"true\"\n",
    "    controls\n",
    "    >\n",
    "</video>"
   ]
  },
  {
   "cell_type": "markdown",
   "id": "13d46060-fc48-4a50-9651-1aee8b79e138",
   "metadata": {
    "editable": true,
    "slideshow": {
     "slide_type": "slide"
    },
    "tags": []
   },
   "source": [
    "# Implementations\n",
    "\n",
    "Pytorch https://github.com/google-research/self-organising-systems/blob/master/notebooks/texture_nca_pytorch.ipynb\n",
    "\n",
    "WebGL https://github.com/google/swissgl/blob/main/demo/NeuralCA.js\n",
    "\n",
    "WebGPU https://compute.toys/view/359\n",
    "\n",
    "Native WebGPU + Rust https://github.com/0x1eadbead/wgpu-compute-toy/blob/mapping/examples/nca/\n",
    "\n",
    "Native WebGPU + C++ https://github.com/algroznykh/cccompute"
   ]
  },
  {
   "cell_type": "markdown",
   "id": "7b96c60b-2a27-4a7f-b88b-d82e270e4916",
   "metadata": {
    "editable": true,
    "slideshow": {
     "slide_type": "skip"
    },
    "tags": []
   },
   "source": [
    "# Speculation / call to action\n",
    "\n",
    "<video width=\" \" height=\" \" \n",
    "       src=\"diffusion_explosion.mp4\"  \n",
    "    width=\"70%\" height=\"70%\"\n",
    "    autoplay=\"true\"\n",
    "    muted=\"true\"\n",
    "    loop=\"true\"\n",
    "    controls\n",
    "    >\n",
    "</video>\n",
    "\n",
    "I/O to states\n",
    "\n",
    "particular feeling when working with such systems\n",
    "\n",
    "self-org robots\n",
    "distributed mate light\n",
    "\n",
    "\n"
   ]
  },
  {
   "cell_type": "markdown",
   "id": "eb6f051e-b230-4b10-9d65-05b41e625684",
   "metadata": {
    "editable": true,
    "slideshow": {
     "slide_type": "slide"
    },
    "tags": []
   },
   "source": [
    "# Open Questions\n",
    "\n",
    "- how to organize systems on different scales?\n",
    "- how to train such systems on scale without running into memory bottleneck?\n",
    "- how to \"escape the simulation\"?\n",
    "\n",
    "<img src=\"tiers.png\"\n",
    "        width=\"50%\" height=\"50%\">"
   ]
  },
  {
   "cell_type": "markdown",
   "id": "7b3a682b-dc6a-446e-8fb4-e278e3496fb9",
   "metadata": {
    "editable": true,
    "slideshow": {
     "slide_type": "slide"
    },
    "tags": []
   },
   "source": [
    "# further links\n",
    "\n",
    "https://selforglive.github.io/\n",
    "\n",
    "https://transdimensional.xyz/projects/neural_ca/index.html\n",
    "\n",
    "https://google-research.github.io/self-organising-systems/\n",
    "\n",
    "https://www.youtube.com/watch?v=ZxOSrhhTFio\n",
    "\n",
    "https://twitter.com/algroznykh\n"
   ]
  }
 ],
 "metadata": {
  "kernelspec": {
   "display_name": "Python 3 (ipykernel)",
   "language": "python",
   "name": "python3"
  },
  "language_info": {
   "codemirror_mode": {
    "name": "ipython",
    "version": 3
   },
   "file_extension": ".py",
   "mimetype": "text/x-python",
   "name": "python",
   "nbconvert_exporter": "python",
   "pygments_lexer": "ipython3",
   "version": "3.11.6"
  }
 },
 "nbformat": 4,
 "nbformat_minor": 5
}
